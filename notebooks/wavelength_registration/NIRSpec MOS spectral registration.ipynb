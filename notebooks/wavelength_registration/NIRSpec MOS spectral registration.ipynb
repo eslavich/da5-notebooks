{
 "cells": [
  {
   "cell_type": "markdown",
   "metadata": {},
   "source": [
    "# Aligning NIRSpec MOS Spectra using Spectral Features\n",
    "\n",
    "In this notebook, we will demonstrate how to align two NIRSpec MOS spectra using spectral features. An example might be for two observations of the same galaxy observed through different MSA shutters. This process can be used to check WCS solutions, or to fine-tune the spectral registration."
   ]
  },
  {
   "cell_type": "markdown",
   "metadata": {},
   "source": [
    "## Table of Contents:\n",
    "> * [Imports](#imports)\n",
    "> * [Reading and Selecting the spectra](#Reading)\n",
    "> * [Extracting 1D Spectra](#Extracting)\n",
    "> * [Isolating regions of overlap](#Isolating)\n",
    "> * [Normalizing the continuum](#Normalizing)\n",
    "> * [Registering the second spectrum to the first in wavelength](#Registering)\n",
    "> * [Trying again](#Trying_again)\n",
    "> * [Version information](#Versions)\n",
    "> * [About this notebook](#About)\n"
   ]
  },
  {
   "cell_type": "markdown",
   "metadata": {},
   "source": [
    "***\n",
    "<a id='imports'></a>\n",
    "## Imports"
   ]
  },
  {
   "cell_type": "markdown",
   "metadata": {},
   "source": [
    "* `astropy.io fits` for accessing FITS files\n",
    "* `astropy.modeling` for fitting to get a new dispersion solution for the spectrum being registered\n",
    "* `numpy` numerical library used for array manipulation\n",
    "* `matplotlib.pyplot` for plotting data\n",
    "* `scipy.interpolate` used to interpolate one spectrum on to the wavelength grid of the other\n",
    "* `scipy.optimize` for fitting the dispersion solution\n",
    "* `matplotlib inline` to display plots inline"
   ]
  },
  {
   "cell_type": "code",
   "execution_count": null,
   "metadata": {},
   "outputs": [],
   "source": [
    "from astropy.io import fits\n",
    "from astropy.modeling import models, fitting\n",
    "import numpy as np\n",
    "import matplotlib.pyplot as plt\n",
    "from scipy.interpolate import interp1d\n",
    "from scipy.optimize import minimize\n",
    "%matplotlib inline"
   ]
  },
  {
   "cell_type": "markdown",
   "metadata": {},
   "source": [
    "***\n",
    "<a id='Reading'></a>\n",
    "## Reading and selecting the spectra"
   ]
  },
  {
   "cell_type": "markdown",
   "metadata": {},
   "source": [
    "For this demonstration, we'll use some sample data which has been run partway through the pipeline, ending with extract2d. This means that the spectra have not been rectified. If you use data which has already been extracted as 1D spectra, you can skip the next few steps (but then, the spectra might already line up for you, so this wouldn't be demonstrating how to do it).\n",
    "\n",
    "Let's open the file and inspect to decide which extension to use. After a bit of iteration through the next few cells, we decide on extensions 9 and 23, which have enough pixels to work with."
   ]
  },
  {
   "cell_type": "code",
   "execution_count": null,
   "metadata": {
    "scrolled": true
   },
   "outputs": [],
   "source": [
    "# Original filename = 'F170LP-G235M_MOS_observation-6-c0e0_001_DN_NRS1_mod_updatedHDR_cal.fits'\n",
    "filename='https://stsci.box.com/shared/static/fvrgpesqrpbzdv5btn17pb899btwd61a.fits'\n",
    "fits.info(filename)  # What extensions should we use?"
   ]
  },
  {
   "cell_type": "code",
   "execution_count": null,
   "metadata": {
    "scrolled": false
   },
   "outputs": [],
   "source": [
    "# These are two science extensions with sufficient pixels\n",
    "ext1 = 9\n",
    "ext2 = 23\n",
    "\n",
    "sci1 = fits.getdata(filename, ext1)\n",
    "sci2 = fits.getdata(filename, ext2)\n",
    "\n",
    "fig1, ax1 = plt.subplots(figsize=(10, 2))\n",
    "tmp = ax1.imshow(sci1, origin='lower', interpolation='none')\n",
    "fig2, ax2 = plt.subplots(figsize=(10, 2))\n",
    "tmp = ax2.imshow(sci2, origin='lower', interpolation='none')"
   ]
  },
  {
   "cell_type": "markdown",
   "metadata": {},
   "source": [
    "***\n",
    "<a id='Extracting'></a>\n",
    "## Extracting 1D spectra"
   ]
  },
  {
   "cell_type": "markdown",
   "metadata": {},
   "source": [
    "We'll pretend that these are already rectified, and do a simple sum over the cross-dispersion \n",
    "direction to work with 1d spectra."
   ]
  },
  {
   "cell_type": "code",
   "execution_count": null,
   "metadata": {},
   "outputs": [],
   "source": [
    "spec1 = sci1.sum(axis=0)\n",
    "spec2 = sci2.sum(axis=0)\n",
    "fig3 = plt.figure(figsize=(8, 4))\n",
    "tmp = plt.plot(spec1)\n",
    "tmp = plt.plot(spec2)\n",
    "plt.xlabel('pixels')"
   ]
  },
  {
   "cell_type": "markdown",
   "metadata": {},
   "source": [
    "The wavelength extensions are also 2D, so we'll use a median (ignoring NaN values) to get 1-D wavelength arrays."
   ]
  },
  {
   "cell_type": "code",
   "execution_count": null,
   "metadata": {},
   "outputs": [],
   "source": [
    "wav1 = fits.getdata(filename, ext1+3)\n",
    "wav2 = fits.getdata(filename, ext2+3)\n",
    "\n",
    "wave1 = np.nanmedian(wav1, axis=0)\n",
    "wave2 = np.nanmedian(wav2, axis=0)\n",
    "\n",
    "fig4 = plt.figure(figsize=(8, 4))\n",
    "tmp = plt.plot(wave1, spec1)\n",
    "tmp = plt.plot(wave2, spec2)\n",
    "plt.xlabel('microns')"
   ]
  },
  {
   "cell_type": "markdown",
   "metadata": {},
   "source": [
    "***\n",
    "<a id='Isolating'></a>\n",
    "## Isolate regions of overlap"
   ]
  },
  {
   "cell_type": "markdown",
   "metadata": {},
   "source": [
    "Since the spectra are different shapes, we need to isolate the portions of the spectra where they overlap."
   ]
  },
  {
   "cell_type": "code",
   "execution_count": null,
   "metadata": {
    "scrolled": false
   },
   "outputs": [],
   "source": [
    "wave_lo, wave_hi = max(wave1.min(), wave2.min()), min(wave1.max(), wave2.max())\n",
    "in_wave1 = (wave1 >= wave_lo) & (wave1 <= wave_hi) & (spec1 != 0.0)\n",
    "in_wave2 = (wave2 >= wave_lo) & (wave2 <= wave_hi) & (spec2 != 0.0)\n",
    "\n",
    "fig5 = plt.figure(figsize=(8, 4))\n",
    "tmp = plt.plot(wave1[in_wave1], spec1[in_wave1])\n",
    "tmp = plt.plot(wave2[in_wave2], spec2[in_wave2])"
   ]
  },
  {
   "cell_type": "markdown",
   "metadata": {},
   "source": [
    "***\n",
    "<a id='Normalizeing'></a>\n",
    "## Normalize the continuum"
   ]
  },
  {
   "cell_type": "markdown",
   "metadata": {},
   "source": [
    "We also need to normalize the fluxes to make our wavelength fits better. First, inspect the ratio of the second spectrum to the first. To do this, we need to interpolate our second spectrum onto the same wavelength grid, which we will do using simple linear interpolation."
   ]
  },
  {
   "cell_type": "code",
   "execution_count": null,
   "metadata": {
    "scrolled": false
   },
   "outputs": [],
   "source": [
    "out_wave = wave1[in_wave1]\n",
    "interp_spec2 = interp1d(wave2[in_wave2], spec2[in_wave2], fill_value='extrapolate')(out_wave)\n",
    "div_spec = interp_spec2 / spec1[in_wave1]\n",
    "\n",
    "fig6 = plt.figure(figsize=(8, 4))\n",
    "tmp = plt.plot(out_wave, div_spec)"
   ]
  },
  {
   "cell_type": "markdown",
   "metadata": {},
   "source": [
    "It looks like a 2nd-order polynomial, starting redwards of 1.70 microns might do a good job of fitting this ratio (ignoring the lines).  If the spectra are not already well-aligned, more robust fitting methods, probably including outlier rejection, would be necessary. We'll do the fit using the astropy `Polynomial1D` model and a linear least-squares fitter. "
   ]
  },
  {
   "cell_type": "code",
   "execution_count": null,
   "metadata": {},
   "outputs": [],
   "source": [
    "norm_model = models.Polynomial1D(2)\n",
    "fitter = fitting.LinearLSQFitter()\n",
    "\n",
    "ok_px = (np.isfinite(div_spec)) & (out_wave >= 1.70)\n",
    "\n",
    "normalization = fitter(norm_model, out_wave[ok_px], div_spec[ok_px])\n",
    "print(normalization)\n",
    "\n",
    "flux_scale_factor = normalization(out_wave)\n",
    "scaled_spec1 = spec1[in_wave1] * flux_scale_factor\n",
    "\n",
    "# Plot the fit\n",
    "fig7 = plt.figure(figsize=(8,4))\n",
    "tmp = plt.plot(out_wave, div_spec)\n",
    "tmp = plt.plot(out_wave, flux_scale_factor, '--')\n",
    "\n",
    "\n",
    "# Plot the normalized spectra \n",
    "fig8 = plt.figure(figsize=(8, 4))\n",
    "tmp = plt.plot(out_wave, scaled_spec1)\n",
    "tmp = plt.plot(out_wave, interp_spec2)"
   ]
  },
  {
   "cell_type": "markdown",
   "metadata": {},
   "source": [
    "***\n",
    "<a id='Registering'></a>\n",
    "## Register the second spectrum to the first in wavelength"
   ]
  },
  {
   "cell_type": "markdown",
   "metadata": {},
   "source": [
    "To register the second spectrum to the first in wavelength, we basically need to warp its dispersion solution. \n",
    "We do this using `scipy.optimize.minimize`, where \n",
    "we'll transform one of the wavelength arrays with a polynomial, then use that new wavelength\n",
    "to resample the associated spectrum to the reference wavelengths. Our metric is the standard\n",
    "deviation of the difference spectrum, which we want to minimize.\n",
    "\n",
    "First, create a few helper functions for plotting purposes."
   ]
  },
  {
   "cell_type": "code",
   "execution_count": null,
   "metadata": {},
   "outputs": [],
   "source": [
    "# Give the old wavelength and the coefficients of the fit, return the new wavelength\n",
    "def alter_wave(poly_coefs, old_wave): \n",
    "    altered_wave2 = np.zeros_like(old_wave)\n",
    "    for c, coef in enumerate(poly_coefs):  # this can be something other than a polynomial, if desired\n",
    "        altered_wave2 += coef * old_wave**c\n",
    "    return altered_wave2\n",
    "\n",
    "# Interpolate the second spectrum onto the wavelength grid of the first\n",
    "def alter_spec(wave): \n",
    "    altered_spec2 = interp1d(wave, spec2[in_wave2], fill_value='extrapolate')(out_wave)\n",
    "    return altered_spec2"
   ]
  },
  {
   "cell_type": "markdown",
   "metadata": {},
   "source": [
    "Create a function (to be passed to scipy's `minimize` routine) to compute the quantity that we wish to optimize (by warping the dispersion solution of the second spectrum). We choose to minimize the standard deviation of the differences between the two spectra."
   ]
  },
  {
   "cell_type": "code",
   "execution_count": null,
   "metadata": {},
   "outputs": [],
   "source": [
    "def fit_metric(poly_coefs, old_wave):\n",
    "    altered_wave2 = alter_wave(poly_coefs, old_wave)  # construct the new wavelength array\n",
    "    altered_spec2 = alter_spec(altered_wave2)  # resample the spectrum\n",
    "    diff_spec = altered_spec2 - scaled_spec1  # difference spectrum\n",
    "    return diff_spec.std()  # this is what we are minimizing"
   ]
  },
  {
   "cell_type": "markdown",
   "metadata": {},
   "source": [
    "Now do the fit. Try a 2nd-degree polynomial to start; the coefficient array can be any size, depending on what degree polynomial you wish to fit."
   ]
  },
  {
   "cell_type": "code",
   "execution_count": null,
   "metadata": {},
   "outputs": [],
   "source": [
    "pixel_fit = minimize(fit_metric, np.array([0., 1., 0.]), args=(wave2[in_wave2],), method='Nelder-Mead')"
   ]
  },
  {
   "cell_type": "markdown",
   "metadata": {},
   "source": [
    "The fit did indeed find a result very close to the expected [0, 1, 0]."
   ]
  },
  {
   "cell_type": "code",
   "execution_count": null,
   "metadata": {},
   "outputs": [],
   "source": [
    "print(fit_metric(pixel_fit.x, wave2[in_wave2]))\n",
    "print(pixel_fit)"
   ]
  },
  {
   "cell_type": "markdown",
   "metadata": {},
   "source": [
    "Compare the two spectra, the difference between them, and the wavelengths"
   ]
  },
  {
   "cell_type": "code",
   "execution_count": null,
   "metadata": {},
   "outputs": [],
   "source": [
    "# How did we do?\n",
    "alt_wave2 = alter_wave(pixel_fit.x, wave2[in_wave2])\n",
    "alt_spec2 = alter_spec(alt_wave2)\n",
    "\n",
    "fig9 = plt.figure(figsize=(8, 4))\n",
    "tmp = plt.plot(out_wave, scaled_spec1)\n",
    "tmp = plt.plot(out_wave, alt_spec2, '--')\n",
    "\n",
    "fig10 = plt.figure(figsize=(8, 4))\n",
    "tmp = plt.plot(out_wave, interp_spec2 - scaled_spec1)\n",
    "tmp = plt.plot(out_wave, alt_spec2 - scaled_spec1, '--')\n",
    "\n",
    "fig11 = plt.figure(figsize=(8, 4))\n",
    "tmp = plt.plot(wave2[in_wave2], alt_wave2, '.')\n",
    "tmp = plt.plot(wave2[in_wave2], wave2[in_wave2], '--')"
   ]
  },
  {
   "cell_type": "markdown",
   "metadata": {},
   "source": [
    "***\n",
    "<a id='Trying_again'></a>\n",
    "## Try again with a bad wavelength array"
   ]
  },
  {
   "cell_type": "markdown",
   "metadata": {},
   "source": [
    "Now we'll try it with a bad wavelength array. We'll scale the wavelength array by 10% and try again."
   ]
  },
  {
   "cell_type": "code",
   "execution_count": null,
   "metadata": {},
   "outputs": [],
   "source": [
    "bad_wave2 = wave2[in_wave2] * 1.1\n",
    "\n",
    "pixel_fit2 = minimize(fit_metric, np.array([0., 1.0, 0.]), args=(bad_wave2,), method='Nelder-Mead')\n",
    "print(pixel_fit2)"
   ]
  },
  {
   "cell_type": "markdown",
   "metadata": {},
   "source": [
    "The result found a scale factor almost exactly 1/1.1."
   ]
  },
  {
   "cell_type": "code",
   "execution_count": null,
   "metadata": {
    "scrolled": false
   },
   "outputs": [],
   "source": [
    "alt_wave2a = alter_wave(pixel_fit2.x, bad_wave2)\n",
    "alt_spec2a = alter_spec(alt_wave2a)\n",
    "\n",
    "fig9 = plt.figure(figsize=(8, 4))\n",
    "tmp = plt.plot(out_wave, scaled_spec1)\n",
    "tmp = plt.plot(alt_wave2a, spec2[in_wave2], '--')\n",
    "\n",
    "fig10 = plt.figure(figsize=(8, 4))\n",
    "tmp = plt.plot(out_wave, interp_spec2 - scaled_spec1)\n",
    "tmp = plt.plot(out_wave, alt_spec2a - scaled_spec1, '--')\n",
    "\n",
    "fig11 = plt.figure(figsize=(8, 4))\n",
    "tmp = plt.plot(wave2[in_wave2], alt_wave2a)\n",
    "tmp = plt.plot(wave2[in_wave2], wave2[in_wave2], '--')"
   ]
  },
  {
   "cell_type": "markdown",
   "metadata": {},
   "source": [
    "***\n",
    "<a id='Versions'></a>\n",
    "## Version information"
   ]
  },
  {
   "cell_type": "markdown",
   "metadata": {},
   "source": [
    "```Versions:\n",
    "  python:  sys.version_info(major=3, minor=6, micro=6, releaselevel='final', serial=0)\n",
    "  astropy:  3.2.dev23244\n",
    "  scipy:  1.1.0\n",
    "  numpy:  1.15.4\n",
    "```"
   ]
  },
  {
   "cell_type": "code",
   "execution_count": null,
   "metadata": {},
   "outputs": [],
   "source": [
    "import sys, astropy, numpy, scipy\n",
    "print('Versions:')\n",
    "print('  python: ', sys.version_info)\n",
    "print('  astropy: ', astropy.__version__)\n",
    "print('  scipy: ', scipy.__version__)\n",
    "print('  numpy: ', np.__version__)"
   ]
  },
  {
   "cell_type": "markdown",
   "metadata": {},
   "source": [
    "***\n",
    "<a id='about'></a>\n",
    "## About this notebook"
   ]
  },
  {
   "cell_type": "markdown",
   "metadata": {},
   "source": [
    "This notebook was created by Graham Kanarek, and revised by Henry Ferguson (STScI). Please send queries to the [JWST Help Desk](https://stsci.service-now.com/jwst).\n",
    "\n",
    "Updated on 13 December 2018"
   ]
  }
 ],
 "metadata": {
  "kernelspec": {
   "display_name": "Python 3",
   "language": "python",
   "name": "python3"
  },
  "language_info": {
   "codemirror_mode": {
    "name": "ipython",
    "version": 3
   },
   "file_extension": ".py",
   "mimetype": "text/x-python",
   "name": "python",
   "nbconvert_exporter": "python",
   "pygments_lexer": "ipython3",
   "version": "3.6.7"
  }
 },
 "nbformat": 4,
 "nbformat_minor": 2
}
