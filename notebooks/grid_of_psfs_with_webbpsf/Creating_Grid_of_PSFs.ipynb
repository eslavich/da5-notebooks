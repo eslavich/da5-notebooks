{
 "cells": [
  {
   "cell_type": "markdown",
   "metadata": {},
   "source": [
    "# Creating a Grid of PSFs in WebbPSF with `psf_grid()`"
   ]
  },
  {
   "cell_type": "markdown",
   "metadata": {},
   "source": [
    "In order to use photutils to do PSF-fitting photometry on simulated JWST PSFs, the first step is to create a grid of fiducial PSFs spanning the instrument/detector of choice. This can be done using the `psf_grid()` method in WebbPSF which will output a (list of or single) photutils `GriddedPSFModel` object(s). Users can then use photutils to apply interpolation to the grid to simulate a spatially dependent PSF anywhere on the instrument.\n",
    "\n",
    "This notebook will describe how to use WebbPSF to create these grids of PSFs. \n",
    "\n",
    "See the notebook on simulated images and photometry with the GriddedPSFModel for more information on the later steps of this process."
   ]
  },
  {
   "cell_type": "markdown",
   "metadata": {},
   "source": [
    "<img src=\"example_psf_grid.png\" width=350px>"
   ]
  },
  {
   "cell_type": "markdown",
   "metadata": {},
   "source": [
    "<div class=\"alert alert-warning\">Warning: This notebook creates many large GriddedPSFModel objects and will therefore take a long time to run. We suggest only running one or two examples as the examples just show the different parameters available when creating the grid of PSFs.</div>"
   ]
  },
  {
   "cell_type": "markdown",
   "metadata": {},
   "source": [
    "For those who have used WebbPSF before, `psf_grid()` is set up in a similar manner to `calc_psf()`. A basic use of this method looks like:"
   ]
  },
  {
   "cell_type": "code",
   "execution_count": null,
   "metadata": {},
   "outputs": [],
   "source": [
    "from astropy.io import fits\n",
    "import webbpsf\n",
    "from webbpsf.utils import to_griddedpsfmodel\n",
    "print(\"Notebook tested with WebbPSF 0.8.0, currently running on WebbPSF\", webbpsf.version.version)"
   ]
  },
  {
   "cell_type": "code",
   "execution_count": null,
   "metadata": {
    "collapsed": true
   },
   "outputs": [],
   "source": [
    "# Create a grid of PSFs for all detectors in NIRCam\n",
    "nir = webbpsf.NIRCam()\n",
    "nir.filter = \"F090W\"\n",
    "list_of_grids = nir.psf_grid()"
   ]
  },
  {
   "cell_type": "markdown",
   "metadata": {},
   "source": [
    "### Outputs"
   ]
  },
  {
   "cell_type": "markdown",
   "metadata": {},
   "source": [
    "For each instrument/filter/detector combination, `psf_grid()` will return a 3D array of Z $\\times$ n $\\times$ n in a `GriddedPSFModel` object. The 3D array represents the Z number of 2D n $\\times$ n PSFs created on the detector. You can check the `grid_xypos` key (or if you save the object as a `FITS` file, the `DET_YX#` header keywords) which will state the position of the PSF on the detector for each of the PSFs. The order of the tuples in `grid_xypos` (and the number in the `FITS` header keyword) refers to the number the PSF is in the 3D array.\n",
    "\n",
    "If you set `all_detectors=True` and the instrument you chose has more than one detector (e.g. NIRCam), `psf_grid()` will return a list of 3D `GriddedPSFModel` objects, with one object per detector. If you defined only 1 detector, or have `all_detectors=True` when your instrument only has 1 detector (e.g. NIRISS), `psf_grid()` will return a single `GriddedPSFModel` object.\n",
    "\n",
    "If you set `save=True`, the `GriddedPSFModel` will be saved as a `FITS` object. This can later be read in and converted back to a `GriddedPSFModel`. The method for how to do this will be detailed below."
   ]
  },
  {
   "cell_type": "markdown",
   "metadata": {},
   "source": [
    "### Summary of Possible Parameters"
   ]
  },
  {
   "cell_type": "markdown",
   "metadata": {},
   "source": [
    "    Parameters to be set before psf_grid()\n",
    "    --------------------------------------\n",
    "    Filter(s)\n",
    "        Set with: inst.filter = str\n",
    "        If you want to run all the filters, you must loop through them\n",
    "    Detector(s)\n",
    "        Set with: inst.detector = str\n",
    "        If you want to run 1 detector, define it like above and set the internal parameter all_detectors=False\n",
    "        If you want to run a list of detectors, you must loop through them and set all_detectors=False\n",
    "        If you want to run all the detectors, you set all_detectors=True\n",
    "    PSF location if num_psfs=1 \n",
    "        Set with: inst.detector_position = tuple in the form (x,y)\n",
    "        Or if you want the location to be the center of the detector, set single_psf_centered=True\n",
    "    Other WebbPSF attributes\n",
    "        Set with the instrument attribute. E.g. inst.pupil_mask, inst.image_mask, inst.pupilopd, etc\n",
    "    \n",
    "    \n",
    "    Parameters inside psf_grid()\n",
    "    ----------------------------\n",
    "    all_detectors: bool\n",
    "        If True, run all detectors for the instrument (For NIRCam, this will pick out either all \n",
    "        the shortwave or all the longwave detectors). If False, run for the detector set in\n",
    "        the instrument instance. Default is True\n",
    "    use_detsampled_psf: bool\n",
    "        If True, the grid of PSFs returned will be detector sampled (made by binning down the\n",
    "        oversampled PSF). If False, the PSFs will be oversampled by the factor defined by the\n",
    "        oversample/detector_oversample/fft_oversample keywords. Default is False.\n",
    "    num_psfs: int\n",
    "        The total number of fiducial PSFs to be created and saved in the files. This\n",
    "        number must be a square number. Default is 16.\n",
    "        E.g. num_psfs = 16 will create a 4x4 grid of fiducial PSFs.\n",
    "    single_psf_centered: bool\n",
    "        If num_psfs is set to 1, this defines where that psf is located. If True it will be the\n",
    "        center of the detector, if False it will be the location defined in the WebbPSF\n",
    "        attribute detector_position (reminder - detector_position is (x,y)). Default is True.\n",
    "    save: bool\n",
    "        True/False boolean if you want to save your file. Default is False.\n",
    "    outfile: str\n",
    "        If \"save\" keyword is set to True, your current file will be saved under\n",
    "        \"{outfile}_det_filt.fits\". Default of None will save it in the current\n",
    "        directory as: instr_det_filt_fovp#_samp#_npsf#.fits\n",
    "    overwrite : bool\n",
    "        True/False boolean to overwrite the output file if it already exists. Default\n",
    "        is True.\n",
    "    verbose : bool\n",
    "        True/False boolean to print status updates. Default is True.\n",
    "    **kwargs:\n",
    "        Add any extra arguments to the WebbPSF calc_psf() method call. This includes\n",
    "        the following kwargs (and their default values): source(=None), nlambda(=None),\n",
    "        monochromatic(=None), fov_arcsec(=None), fov_pixels(=101), oversample(=4),\n",
    "        detector_oversample(=None), fft_oversample(=None), normalize(='first'),\n",
    "        add_distortion(=True), and crop_psf(=True)\n"
   ]
  },
  {
   "cell_type": "markdown",
   "metadata": {},
   "source": [
    "## Example Uses"
   ]
  },
  {
   "cell_type": "markdown",
   "metadata": {},
   "source": [
    "### Create a full library of grids for 1 filter and all detectors"
   ]
  },
  {
   "cell_type": "markdown",
   "metadata": {},
   "source": [
    "This is the same example as above"
   ]
  },
  {
   "cell_type": "code",
   "execution_count": null,
   "metadata": {
    "collapsed": true
   },
   "outputs": [],
   "source": [
    "nir = webbpsf.NIRCam()\n",
    "nir.filter = \"F090W\"\n",
    "grid = nir.psf_grid()"
   ]
  },
  {
   "cell_type": "code",
   "execution_count": null,
   "metadata": {
    "collapsed": true
   },
   "outputs": [],
   "source": [
    "# Check out the data and meta data with\n",
    "nrca1_model = grid[0]\n",
    "print(nrca1_model.data)\n",
    "print(nrca1_model.meta)"
   ]
  },
  {
   "cell_type": "markdown",
   "metadata": {},
   "source": [
    "### Create a grid for 1 filter and 1 detector"
   ]
  },
  {
   "cell_type": "code",
   "execution_count": null,
   "metadata": {
    "collapsed": true
   },
   "outputs": [],
   "source": [
    "nir = webbpsf.NIRCam()\n",
    "nir.filter = \"F090W\"\n",
    "nir.detector = \"NRCA2\"\n",
    "grid = nir.psf_grid(all_detectors=False)"
   ]
  },
  {
   "cell_type": "markdown",
   "metadata": {},
   "source": [
    "### Loop through if you want multiple filters or a subset of the detectors"
   ]
  },
  {
   "cell_type": "code",
   "execution_count": null,
   "metadata": {
    "collapsed": true
   },
   "outputs": [],
   "source": [
    "# Loop through filters\n",
    "grid_filt_list = []\n",
    "nis = webbpsf.NIRISS()\n",
    "for filt in nis.filter_list:\n",
    "    nis.filter = filt\n",
    "    grid = nis.psf_grid()\n",
    "    grid_filt_list.append(grid)\n",
    "\n",
    "# Loop through detectors\n",
    "nir = webbpsf.NIRCam()\n",
    "nir.filter = \"F140M\"\n",
    "grid_det_list = []\n",
    "for det in [\"NRCA1\", \"NRCA2\", \"NRCA3\", \"NRCA4\"]:\n",
    "    nir.detector = det\n",
    "    grid = nir.psf_grid(all_detectors=False)  \n",
    "    grid_det_list.append(grid)"
   ]
  },
  {
   "cell_type": "markdown",
   "metadata": {},
   "source": [
    "### Set the number of PSFs"
   ]
  },
  {
   "cell_type": "markdown",
   "metadata": {},
   "source": [
    "Use the `num_psfs` keyword to set the number of PSFs in the grid. `num_psfs = 4` means you'll have a 2x2 grid. Default is 16"
   ]
  },
  {
   "cell_type": "code",
   "execution_count": null,
   "metadata": {
    "collapsed": true
   },
   "outputs": [],
   "source": [
    "nis = webbpsf.NIRISS()\n",
    "nis.filter = \"F140M\"\n",
    "grid = nis.psf_grid(num_psfs=4)"
   ]
  },
  {
   "cell_type": "markdown",
   "metadata": {},
   "source": [
    "### Include any `calc_psf()` **kwargs in `psf_grid()`"
   ]
  },
  {
   "cell_type": "markdown",
   "metadata": {},
   "source": [
    "See the docstring of `calc_psf()` for a full description of these keyword arguments"
   ]
  },
  {
   "cell_type": "code",
   "execution_count": null,
   "metadata": {
    "collapsed": true
   },
   "outputs": [],
   "source": [
    "fgs = webbpsf.FGS()\n",
    "fgs.filter = \"FGS\"\n",
    "grid = fgs.psf_grid(fov_pixels=1000, oversample=3, add_distortion=True, nlambda=30)"
   ]
  },
  {
   "cell_type": "markdown",
   "metadata": {},
   "source": [
    "### Customize with other WebbPSF settings before the `psf_grid()` method call"
   ]
  },
  {
   "cell_type": "markdown",
   "metadata": {},
   "source": [
    "Anything you can set in WebbPSF can be applied here. Say you want to use a different OPD, your own OPD with extra mirror moves applied to it, a pupil/image mask combination, etc:"
   ]
  },
  {
   "cell_type": "code",
   "execution_count": null,
   "metadata": {
    "collapsed": true
   },
   "outputs": [],
   "source": [
    "nir = webbpsf.NIRCam()\n",
    "nir.filter = \"F090W\"\n",
    "\n",
    "# Setting extra aspects you want applied to all the PSFs generated in the grid:\n",
    "nir.pupilopd = ('OPD_RevW_ote_for_NIRCam_predicted.fits.gz', 7)\n",
    "nir.pupil_mask = \"WEAK LENS +4\"\n",
    "\n",
    "grid = nir.psf_grid()"
   ]
  },
  {
   "cell_type": "markdown",
   "metadata": {},
   "source": [
    "### Turn off status updates with `verbose=False`"
   ]
  },
  {
   "cell_type": "code",
   "execution_count": null,
   "metadata": {
    "collapsed": true
   },
   "outputs": [],
   "source": [
    "mir = webbpsf.MIRI()\n",
    "mir.filter = \"F560W\"\n",
    "grid = mir.psf_grid(verbose=False)"
   ]
  },
  {
   "cell_type": "markdown",
   "metadata": {},
   "source": [
    "### Saving files"
   ]
  },
  {
   "cell_type": "markdown",
   "metadata": {},
   "source": [
    "Alongside returning the PSF grid, users can save the `GriddedPSFModel` objects as `FITS` files to create their own library. \n",
    "\n",
    "Users can set `save=True` and then have 2 options for the naming of these files. They can leave `outfile=None` to use the default naming scheme which will save the files in the current directory. Otherwise they can set `outfile` to be a path and the beginning of the filename. The fiename will then have the detector and filter name appended to it and will be saved in the specified path."
   ]
  },
  {
   "cell_type": "code",
   "execution_count": null,
   "metadata": {},
   "outputs": [],
   "source": [
    "nir = webbpsf.NIRCam()\n",
    "nir.filter = \"F090W\"\n",
    "\n",
    "# Don't save (Default)\n",
    "grid = nir.psf_grid()\n",
    "\n",
    "# Save with the default name -> {instr}_{det}_{filt}_fovp{#}_samp{#}_npsf{#}.fits\n",
    "grid = nir.psf_grid(save=True, outfile=None, overwrite=True)"
   ]
  },
  {
   "cell_type": "raw",
   "metadata": {},
   "source": [
    "# Save with your own name -> file will be named start_of_name_{det}_{filt}.fits\n",
    "grid = nir.psf_grid(save=True, outfile=\"/path/to/file/start_of_name\")  # will fail due to fake path"
   ]
  },
  {
   "cell_type": "markdown",
   "metadata": {},
   "source": [
    "To convert the `FITS` file back to a `GriddedPSFModel` object, use `to_griddedpsfmodel()`. You can pass this either a filename or an HDUlist object. This example uses the first file created in the above cell: `nircam_nrca1_f090w_fovp101_samp4_npsf16.fits`"
   ]
  },
  {
   "cell_type": "code",
   "execution_count": null,
   "metadata": {},
   "outputs": [],
   "source": [
    "from webbpsf.utils import to_griddedpsfmodel\n",
    "from astropy.io import fits\n",
    "\n",
    "# As a file\n",
    "url = \"https://stsci.box.com/shared/static/6h8wsr2ts0t24s79cxmnyk8bldt0vv3i.fits\"\n",
    "grid = to_griddedpsfmodel(url, ext=0)\n",
    "\n",
    "# As an HDUlist object\n",
    "hdu = fits.open(url)\n",
    "grid = to_griddedpsfmodel(hdu, ext=0)"
   ]
  },
  {
   "cell_type": "markdown",
   "metadata": {},
   "source": [
    "## Not Recommended but Additional Options"
   ]
  },
  {
   "cell_type": "markdown",
   "metadata": {},
   "source": [
    "### Detector-sampled PSF"
   ]
  },
  {
   "cell_type": "markdown",
   "metadata": {},
   "source": [
    "If you want your ouput grid of PSFs to be detector sampled, set `use_detsampled_psf=True`"
   ]
  },
  {
   "cell_type": "code",
   "execution_count": null,
   "metadata": {
    "collapsed": true
   },
   "outputs": [],
   "source": [
    "nir = webbpsf.NIRCam()\n",
    "nir.filter = \"F090W\"\n",
    "grid = nir.psf_grid(use_detsampled_psf=True)"
   ]
  },
  {
   "cell_type": "markdown",
   "metadata": {},
   "source": [
    "### If `num_psfs=1`, set the location of the PSF with detector_position attribute"
   ]
  },
  {
   "cell_type": "markdown",
   "metadata": {},
   "source": [
    "If `single_psf_centered = True`, then the single PSF will be at the center of the detector. If it's `False`, then the location of the PSF is pulled from the `detector_position` instrument attribute"
   ]
  },
  {
   "cell_type": "code",
   "execution_count": null,
   "metadata": {
    "collapsed": true
   },
   "outputs": [],
   "source": [
    "# Option 1: Set the location as the center of the detector (Default)\n",
    "nis = webbpsf.NIRISS()\n",
    "nis.filter = \"F140M\"\n",
    "grid = nis.psf_grid(num_psfs=1)\n",
    "\n",
    "# Option 2: Choose your own location\n",
    "nis = webbpsf.NIRISS()\n",
    "nis.filter = \"F140M\"\n",
    "nis.detector_position = (10,10) # (x,y)\n",
    "grid = nis.psf_grid(num_psfs=1, single_psf_centered=False)"
   ]
  }
 ],
 "metadata": {
  "kernelspec": {
   "display_name": "Python 3",
   "language": "python",
   "name": "python3"
  },
  "language_info": {
   "codemirror_mode": {
    "name": "ipython",
    "version": 3
   },
   "file_extension": ".py",
   "mimetype": "text/x-python",
   "name": "python",
   "nbconvert_exporter": "python",
   "pygments_lexer": "ipython3",
   "version": "3.5.4"
  }
 },
 "nbformat": 4,
 "nbformat_minor": 2
}
