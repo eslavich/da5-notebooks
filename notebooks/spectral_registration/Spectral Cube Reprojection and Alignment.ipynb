{
 "cells": [
  {
   "cell_type": "markdown",
   "metadata": {},
   "source": [
    "# Image Alignment from Spectral Cubes"
   ]
  },
  {
   "cell_type": "markdown",
   "metadata": {},
   "source": [
    "The data in this notebook is a set of four simulated IFU cubes from David Law.  The first two dithers (Sequence 1 and 2) are aligned and the second two dithers (Sequence 3 and Sequence 4) are aligned with each other but not with Sequence 1 and 2.\n",
    "\n",
    "Two steps will happen in here. First, all images are reprojected onto Sequence 1 (using the WCS information stored in the file). Then, the images are aligned using a few different techniques.\n",
    "\n",
    "All of this is done using a single slice, at this point. "
   ]
  },
  {
   "cell_type": "code",
   "execution_count": null,
   "metadata": {},
   "outputs": [],
   "source": [
    "from astropy.io import fits\n",
    "from astropy.wcs import WCS\n",
    "import numpy as np\n",
    "import matplotlib.pyplot as plt\n",
    "from spectral_cube import SpectralCube\n",
    "from reproject import reproject_interp\n",
    "from scipy import signal\n",
    "from image_registration import cross_correlation_shifts, chi2_shifts, register_images\n"
   ]
  },
  {
   "cell_type": "markdown",
   "metadata": {},
   "source": [
    "Small container class defined just to store some basic info, so things don't have to be repeated."
   ]
  },
  {
   "cell_type": "code",
   "execution_count": null,
   "metadata": {},
   "outputs": [],
   "source": [
    "class IFU(object):\n",
    "\n",
    "    def __init__(self, filename):\n",
    "        self.s3d = SpectralCube.read(filename, hdu=1)\n",
    "        self._slice_number = int(self.s3d.shape[0]//2)\n",
    "        \n",
    "        self.spectral_slice = self.s3d[self._slice_number]\n",
    "        \n",
    "    def data(self, slice_number):\n",
    "        spectral_slice = self.s3d[slice_number]\n",
    "        data = np.array(spectral_slice)\n",
    "        return data, spectral_slice.wcs\n",
    "\n",
    "def show(data, title):\n",
    "    # Display a single image with WCS projection\n",
    "    pp = np.nanpercentile(data, (1, 99))\n",
    "    plt.imshow(data, origin='lower', cmap=plt.gray())\n",
    "    plt.clim(*pp)\n",
    "    plt.grid(color='white', ls='solid')\n",
    "    plt.title(title, fontsize=12)"
   ]
  },
  {
   "cell_type": "code",
   "execution_count": null,
   "metadata": {},
   "outputs": [],
   "source": [
    "sl = 430\n",
    "\n",
    "# det_image_seq1_MIRIFUSHORT_12SHORTexp1_s3d.fits\n",
    "ifu1 = IFU('https://stsci.box.com/shared/static/vqh4k4uzxwauh59xn5ksj6v19xeqvg87.fits')\n",
    "\n",
    "# det_image_seq2_MIRIFUSHORT_12SHORTexp1_s3d.fits\n",
    "ifu2 = IFU('https://stsci.box.com/shared/static/26yl2k3hwp9c2jfj4cvdl6zk967x5fr5.fits')\n",
    "\n",
    "# det_image_seq3_MIRIFUSHORT_12SHORTexp1_s3d.fits\n",
    "ifu3 = IFU('https://stsci.box.com/shared/static/ysq4qk76mau1bw0krn1bim6fqilv2ocx.fits')\n",
    "\n",
    "# det_image_seq4_MIRIFUSHORT_12SHORTexp1_s3d.fits\n",
    "ifu4 = IFU('https://stsci.box.com/shared/static/0ke8k8ltzhgwkkbghvsmvqu0p1qkau9h.fits')"
   ]
  },
  {
   "cell_type": "code",
   "execution_count": null,
   "metadata": {},
   "outputs": [],
   "source": [
    "assert np.allclose(ifu1.data(sl)[0][20,10:15], np.array([-0.47828794, -0.7783276 , -1.2305702 , -0.80176985, -0.5431424 ],\n",
    "      dtype=np.float32))"
   ]
  },
  {
   "cell_type": "markdown",
   "metadata": {},
   "source": [
    "The IFU cubes are loaded up and we are going to display a single slice for each of the sequences. Given the data cubes, we know that Sequence 1 and Sequence 2 should line up.  Sequence 3 and 4 line up with each other but do not line up with Sequence 1 or 2.\n",
    "\n",
    "This can be seen in the images below as the bright peak is shifted slightly down in the image in Sequence 3 and 4."
   ]
  },
  {
   "cell_type": "code",
   "execution_count": null,
   "metadata": {},
   "outputs": [],
   "source": [
    "plt.figure(1, figsize=[10,8])\n",
    "\n",
    "ifu1_data, ifu1_wcs = ifu1.data(sl)\n",
    "plt.subplot(2,2,1, projection=ifu1_wcs)\n",
    "show(ifu1_data, 'Sequence 1')\n",
    "\n",
    "ifu2_data, ifu2_wcs = ifu2.data(sl)\n",
    "plt.subplot(2,2,2, projection=ifu2_wcs)\n",
    "show(ifu2_data, 'Sequence 2')\n",
    "\n",
    "ifu3_data, ifu3_wcs = ifu3.data(sl)\n",
    "plt.subplot(2,2,3, projection=ifu3_wcs)\n",
    "show(ifu1_data, 'Sequence 3')\n",
    "\n",
    "ifu4_data, ifu4_wcs = ifu4.data(sl)\n",
    "plt.subplot(2,2,4, projection=ifu4_wcs)\n",
    "show(ifu4_data, 'Sequence 4')\n"
   ]
  },
  {
   "cell_type": "markdown",
   "metadata": {},
   "source": [
    "## Reproject onto a Common Grid"
   ]
  },
  {
   "cell_type": "markdown",
   "metadata": {},
   "source": [
    "The next step will be to reproject them onto a common grid in order to do alignment.  To do the reprojection, the [reproject package](https://github.com/astrofrog/reproject) is used here.\n",
    "\n",
    "For this, Sequence 2, Sequence 3 and Sequence 4 images will be reprojected onto Sequence 1.  This uses the WCS information used in each of the IFU cubes"
   ]
  },
  {
   "cell_type": "code",
   "execution_count": null,
   "metadata": {},
   "outputs": [],
   "source": [
    "ifu1_data, ifu1_wcs = ifu1.data(sl)\n",
    "ifu2_data, ifu2_wcs = ifu2.data(sl)\n",
    "ifu3_data, ifu3_wcs = ifu3.data(sl)\n",
    "ifu4_data, ifu4_wcs = ifu4.data(sl)\n",
    "\n",
    "ifu2_data_reproj, footprint2 = reproject_interp((ifu2_data, ifu2_wcs), ifu1_wcs, ifu1_data.shape)\n",
    "ifu3_data_reproj, footprint3 = reproject_interp((ifu3_data, ifu3_wcs), ifu1_wcs, ifu1_data.shape)\n",
    "ifu4_data_reproj, footprint4 = reproject_interp((ifu4_data, ifu4_wcs), ifu1_wcs, ifu1_data.shape)"
   ]
  },
  {
   "cell_type": "code",
   "execution_count": null,
   "metadata": {},
   "outputs": [],
   "source": [
    "plt.figure(2,  figsize=[10,8])\n",
    "plt.clf()\n",
    "plt.subplot(221, projection=ifu1_wcs)\n",
    "show(ifu1_data, 'Sequence 1')\n",
    "\n",
    "plt.subplot(222, projection=ifu1_wcs)\n",
    "show(ifu2_data_reproj, 'Sequence 2 - Reprojected')\n",
    "\n",
    "plt.subplot(223, projection=ifu1_wcs)\n",
    "show(ifu3_data_reproj, 'Sequence 3 - Reprojected')\n",
    "\n",
    "plt.subplot(224, projection=ifu1_wcs)\n",
    "show(ifu4_data_reproj, 'Sequence 4 - Reprojected')\n"
   ]
  },
  {
   "cell_type": "markdown",
   "metadata": {},
   "source": [
    "So, as expected, Sequence 1 and 2 are still centered at the correct location, but Sequence 3 and 4 are still shifted slightly lower and to the right.  But, at this point, all the images are in the same WCS frame (Sequence 1)."
   ]
  },
  {
   "cell_type": "markdown",
   "metadata": {},
   "source": [
    "## Alignment"
   ]
  },
  {
   "cell_type": "markdown",
   "metadata": {},
   "source": [
    "There is a package [image-registration](https://github.com/keflavich/image_registration) written by Adam Ginsburg that he has used for alignment and regisration using cross correlation, chi2 and a third algorithm."
   ]
  },
  {
   "cell_type": "markdown",
   "metadata": {},
   "source": [
    "### Cross Correlation"
   ]
  },
  {
   "cell_type": "code",
   "execution_count": null,
   "metadata": {},
   "outputs": [],
   "source": [
    "yoff, xoff = cross_correlation_shifts(ifu2_data_reproj, ifu1_data)\n",
    "ifu2_data_reproj_ccreg = np.roll(np.roll(ifu2_data_reproj, int(yoff), 1), int(xoff), 0)\n",
    "\n",
    "yoff, xoff = cross_correlation_shifts(ifu3_data_reproj, ifu1_data)\n",
    "ifu3_data_reproj_ccreg = np.roll(np.roll(ifu3_data_reproj, int(yoff), 1), int(xoff), 0)\n",
    "\n",
    "yoff, xoff = cross_correlation_shifts(ifu4_data_reproj, ifu1_data)\n",
    "ifu4_data_reproj_ccreg = np.roll(np.roll(ifu4_data_reproj, int(yoff), 1), int(xoff), 0)"
   ]
  },
  {
   "cell_type": "code",
   "execution_count": null,
   "metadata": {},
   "outputs": [],
   "source": [
    "plt.figure(2,  figsize=[10,8])\n",
    "plt.clf()\n",
    "plt.subplot(221, projection=ifu1_wcs)\n",
    "show(ifu1_data, 'Sequence 1')\n",
    "\n",
    "plt.subplot(222, projection=ifu1_wcs)\n",
    "show(ifu2_data_reproj_ccreg, 'Sequence 2 - Reprojected CC Reg')\n",
    "\n",
    "plt.subplot(223, projection=ifu1_wcs)\n",
    "show(ifu3_data_reproj_ccreg, 'Sequence 3 - Reprojected CC Reg')\n",
    "\n",
    "plt.subplot(224, projection=ifu1_wcs)\n",
    "show(ifu4_data_reproj_ccreg, 'Sequence 4 - Reprojected CC Reg')\n"
   ]
  },
  {
   "cell_type": "markdown",
   "metadata": {},
   "source": [
    "### Chi2"
   ]
  },
  {
   "cell_type": "code",
   "execution_count": null,
   "metadata": {},
   "outputs": [],
   "source": [
    "yoff, xoff, edx, edy = chi2_shifts.chi2_shift(ifu2_data_reproj, ifu1_data)\n",
    "ifu2_data_reproj_chi2 = np.roll(np.roll(ifu2_data_reproj, int(yoff), 1), int(xoff), 0)\n",
    "\n",
    "yoff, xoff, edx, edy = chi2_shifts.chi2_shift(ifu3_data_reproj, ifu1_data)\n",
    "ifu3_data_reproj_chi2 = np.roll(np.roll(ifu3_data_reproj, int(yoff), 1), int(xoff), 0)\n",
    "\n",
    "yoff, xoff, edx, edy = chi2_shifts.chi2_shift(ifu4_data_reproj, ifu1_data)\n",
    "ifu4_data_reproj_chi2 = np.roll(np.roll(ifu4_data_reproj, int(yoff), 1), int(xoff), 0)"
   ]
  },
  {
   "cell_type": "code",
   "execution_count": null,
   "metadata": {},
   "outputs": [],
   "source": [
    "plt.figure(2,  figsize=[10,8])\n",
    "plt.clf()\n",
    "plt.subplot(221, projection=ifu1_wcs)\n",
    "show(ifu1_data, 'Sequence 1')\n",
    "\n",
    "plt.subplot(222, projection=ifu1_wcs)\n",
    "show(ifu2_data_reproj_chi2, 'Sequence 2 - Reprojected Chi2 Reg')\n",
    "\n",
    "plt.subplot(223, projection=ifu1_wcs)\n",
    "show(ifu3_data_reproj_chi2, 'Sequence 3 - Reprojected Chi2 Reg')\n",
    "\n",
    "plt.subplot(224, projection=ifu1_wcs)\n",
    "show(ifu4_data_reproj_chi2, 'Sequence 4 - Reprojected Chi2 Reg')"
   ]
  },
  {
   "cell_type": "markdown",
   "metadata": {},
   "source": [
    "\n",
    "### Sub-Pixel Image Registration"
   ]
  },
  {
   "cell_type": "code",
   "execution_count": null,
   "metadata": {},
   "outputs": [],
   "source": [
    "yoff, xoff = register_images(ifu2_data_reproj, ifu1_data)\n",
    "ifu2_data_reproj_subpix = np.roll(np.roll(ifu2_data_reproj, int(yoff), 1), int(xoff), 0)\n",
    "\n",
    "yoff, xoff = register_images(ifu3_data_reproj, ifu1_data)\n",
    "ifu3_data_reproj_subpix = np.roll(np.roll(ifu3_data_reproj, int(yoff), 1), int(xoff), 0)\n",
    "\n",
    "yoff, xoff = register_images(ifu4_data_reproj, ifu1_data)\n",
    "ifu4_data_reproj_subpix = np.roll(np.roll(ifu4_data_reproj, int(yoff), 1), int(xoff), 0)"
   ]
  },
  {
   "cell_type": "code",
   "execution_count": null,
   "metadata": {},
   "outputs": [],
   "source": [
    "plt.figure(2,  figsize=[10,8])\n",
    "plt.clf()\n",
    "plt.subplot(221, projection=ifu1_wcs)\n",
    "show(ifu1_data, 'Sequence 1')\n",
    "\n",
    "plt.subplot(222, projection=ifu1_wcs)\n",
    "show(ifu2_data_reproj_subpix, 'Sequence 2 - Reprojected Subpix Reg')\n",
    "\n",
    "plt.subplot(223, projection=ifu1_wcs)\n",
    "show(ifu3_data_reproj_subpix, 'Sequence 3 - Reprojected Subpix Reg')\n",
    "\n",
    "plt.subplot(224, projection=ifu1_wcs)\n",
    "show(ifu4_data_reproj_subpix, 'Sequence 4 - Reprojected Subpix Reg')"
   ]
  },
  {
   "cell_type": "markdown",
   "metadata": {},
   "source": [
    "## Sum Images from Each Method"
   ]
  },
  {
   "cell_type": "markdown",
   "metadata": {},
   "source": [
    "And finally, now that we have Sequences 2, 3 and 4 reprojected onto 1 and then aligned using several algorithms in the image-registration package, the sum of the 4 dithers can be calculated using the different methods. The first method is reprojection only and no alignment."
   ]
  },
  {
   "cell_type": "code",
   "execution_count": null,
   "metadata": {},
   "outputs": [],
   "source": [
    "plt.figure(2,  figsize=[10,8])\n",
    "plt.clf()\n",
    "plt.subplot(221, projection=ifu1_wcs)\n",
    "show(ifu1_data + ifu2_data_reproj + ifu3_data_reproj + ifu4_data_reproj, \n",
    "     'Reprojected Only')\n",
    "\n",
    "plt.subplot(222, projection=ifu1_wcs)\n",
    "show(ifu1_data + ifu2_data_reproj_ccreg + ifu3_data_reproj_ccreg + ifu4_data_reproj_ccreg, \n",
    "     'Reprojected CC Reg')\n",
    "\n",
    "plt.subplot(223, projection=ifu1_wcs)\n",
    "show(ifu1_data + ifu2_data_reproj_chi2 + ifu3_data_reproj_chi2 + ifu4_data_reproj_chi2, \n",
    "     'Reprojected Chi2 Reg')\n",
    "\n",
    "plt.subplot(224, projection=ifu1_wcs)\n",
    "show(ifu1_data + ifu2_data_reproj_subpix + ifu3_data_reproj_subpix + ifu4_data_reproj_subpix, \n",
    "     'Reprojected Subpix Reg')"
   ]
  },
  {
   "cell_type": "code",
   "execution_count": null,
   "metadata": {},
   "outputs": [],
   "source": []
  }
 ],
 "metadata": {
  "kernelspec": {
   "display_name": "Python 3",
   "language": "python",
   "name": "python3"
  },
  "language_info": {
   "codemirror_mode": {
    "name": "ipython",
    "version": 3
   },
   "file_extension": ".py",
   "mimetype": "text/x-python",
   "name": "python",
   "nbconvert_exporter": "python",
   "pygments_lexer": "ipython3",
   "version": "3.6.7"
  }
 },
 "nbformat": 4,
 "nbformat_minor": 2
}
