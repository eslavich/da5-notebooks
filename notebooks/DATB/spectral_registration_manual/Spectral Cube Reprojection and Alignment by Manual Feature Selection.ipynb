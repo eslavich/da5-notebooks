{
 "cells": [
  {
   "cell_type": "markdown",
   "metadata": {},
   "source": [
    "# Image Alignment from Spectral Cubes by Point Selection"
   ]
  },
  {
   "cell_type": "markdown",
   "metadata": {},
   "source": [
    "The data in this notebook is a set of four simulated IFU cubes from David Law.  The first two dithers (Sequence 1 and 2) are aligned and the second two dithers (Sequence 3 and Sequence 4) are aligned with each other but not with Sequence 1 and 2.\n",
    "\n",
    "Two steps will happen in here. First, all images are reprojected onto Sequence 1 (using the WCS information stored in the file). Then, the images are aligned using a few different techniques.\n",
    "\n",
    "All of this is done using a single slice, at this point. "
   ]
  },
  {
   "cell_type": "code",
   "execution_count": null,
   "metadata": {},
   "outputs": [],
   "source": [
    "%matplotlib notebook\n",
    "\n",
    "from collections import defaultdict\n",
    "\n",
    "from astropy.io import fits\n",
    "from astropy.wcs import WCS\n",
    "import numpy as np\n",
    "import matplotlib.pyplot as plt\n",
    "from spectral_cube import SpectralCube\n",
    "from reproject import reproject_interp\n",
    "from scipy import signal\n",
    "from scipy.ndimage import interpolation\n",
    "from image_registration import cross_correlation_shifts, chi2_shifts, register_images\n"
   ]
  },
  {
   "cell_type": "markdown",
   "metadata": {},
   "source": [
    "This next class had to be written as ginput does not work in the notebook.  So, it has to listen for mouse clicks via an event handler.  This works, but might be much simpler code if it were stand alone python rather than in Jupyter notebooks"
   ]
  },
  {
   "cell_type": "code",
   "execution_count": null,
   "metadata": {},
   "outputs": [],
   "source": [
    "class DisplayGinput(object):\n",
    "    def __init__(self, images, points=None):\n",
    "\n",
    "        # Internal variables\n",
    "        self._images = images\n",
    "        self._pts = points or defaultdict(list)\n",
    "        self._image_index = 0\n",
    "        \n",
    "        # Show the first image\n",
    "        self.fig, self.ax = plt.subplots()\n",
    "        self.text = self.ax.text(0,-25, '')\n",
    "        self.show_get()\n",
    "        \n",
    "        # Set the mouse button callback\n",
    "        if not points:\n",
    "            self.cid2 = self.fig.canvas.mpl_connect('button_press_event', self.onclick)\n",
    "        \n",
    "            \n",
    "    def show_get(self):\n",
    "        \"\"\"\n",
    "        Show image based on image_index.\n",
    "        \"\"\"\n",
    "        self.ax.imshow(self._images[self._image_index])\n",
    "    \n",
    "    def show_text(self, thetext):\n",
    "        \"\"\"\n",
    "        Show the text below the image.\n",
    "        \"\"\"\n",
    "        self.text.set_text(thetext)\n",
    "    \n",
    "    def clear_text(self):\n",
    "        \"\"\"\n",
    "        Clear the text.\n",
    "        \"\"\"\n",
    "        self.show_text('')\n",
    "    \n",
    "    def onclick(self, event):\n",
    "        \"\"\"\n",
    "        Mouse button click\n",
    "        \"\"\"\n",
    "        \n",
    "        # Left mouse button\n",
    "        if event.button == 1:\n",
    "            self._pts[self._image_index].append((event.xdata, event.ydata))\n",
    "            self.show_text('Clicked {:.1f}, {:.1f}, Click left button for more, right to got to the next'.format(event.xdata, event.ydata))\n",
    "\n",
    "        # Right mouse button    \n",
    "        elif event.button == 3:\n",
    "            self._image_index = self._image_index + 1\n",
    "            \n",
    "        # If we have seen them all, then we are done.\n",
    "        if self._image_index >= len(self._images):\n",
    "            self.show_text('You are done, look at the results from reg_images()')\n",
    "        else:\n",
    "            self.show_get()\n",
    "            \n",
    "    def reg_images(self, interpolate=False):\n",
    "        \"\"\"\n",
    "        Calculate the registered images and return them.\n",
    "        \"\"\"\n",
    "        toreturn = []\n",
    "        \n",
    "        # Get target point which is a list of points clicked\n",
    "        # in the first image\n",
    "        target_pt = self._pts[0]\n",
    "        \n",
    "        # For each image, calculate the amount to roll/shift and then apply it.\n",
    "        for ii, im in enumerate(self._images):\n",
    "\n",
    "            # Calculate the average shifts based on all the clicks in each image\n",
    "            x_shifts, y_shifts = [], []\n",
    "            for pti, pts in enumerate(self._pts[ii]):\n",
    "                x_shifts.append(-(pts[1] - target_pt[pti][1]))\n",
    "                y_shifts.append(-(pts[0] - target_pt[pti][0]))\n",
    "                \n",
    "            # This is now the amount we need to shift this image.\n",
    "            x_shift, y_shift = (np.mean(x_shifts), np.mean(y_shifts))\n",
    "            \n",
    "            # Grab the image and set infs and nans to 0.\n",
    "            im = self._images[ii]\n",
    "            im[~np.isfinite(im)] = 0\n",
    "            \n",
    "            # Use scipy.ndimage.interpolation.shift\n",
    "            if interpolate:\n",
    "                roll_pts = (x_shift, y_shift)                \n",
    "                newim = interpolation.shift(im, roll_pts)\n",
    "\n",
    "            # Use numpy roll to shift the images by integral amounts.\n",
    "            else:        \n",
    "                roll_pts = (int(np.round(x_shift)), int(np.round(y_shift)))\n",
    "                newim = np.roll(im, roll_pts, axis=(0, 1))\n",
    "            \n",
    "            toreturn.append(newim)\n",
    "                \n",
    "        return toreturn"
   ]
  },
  {
   "cell_type": "markdown",
   "metadata": {},
   "source": [
    "Small container class defined just to store some basic info, so things don't have to be repeated."
   ]
  },
  {
   "cell_type": "code",
   "execution_count": null,
   "metadata": {},
   "outputs": [],
   "source": [
    "class IFU(object):\n",
    "\n",
    "    def __init__(self, filename):\n",
    "        self.s3d = SpectralCube.read(filename, hdu=1)\n",
    "        self._slice_number = int(self.s3d.shape[0]//2)\n",
    "        \n",
    "        self.spectral_slice = self.s3d[self._slice_number]\n",
    "        \n",
    "    def data(self, slice_number):\n",
    "        spectral_slice = self.s3d[slice_number]\n",
    "        data = np.array(spectral_slice)\n",
    "        return data, spectral_slice.wcs\n",
    "\n",
    "def show(data, title):\n",
    "    # Display a single image with WCS projection\n",
    "    pp = np.nanpercentile(data, (1, 99))\n",
    "    plt.imshow(data, origin='lower', cmap=plt.gray())\n",
    "    plt.clim(*pp)\n",
    "    plt.grid(color='white', ls='solid')\n",
    "    plt.title(title, fontsize=12)"
   ]
  },
  {
   "cell_type": "code",
   "execution_count": null,
   "metadata": {},
   "outputs": [],
   "source": [
    "sl = 430\n",
    "\n",
    "# det_image_seq1_MIRIFUSHORT_12SHORTexp1_s3d.fits\n",
    "ifu1 = IFU('https://stsci.box.com/shared/static/vqh4k4uzxwauh59xn5ksj6v19xeqvg87.fits')\n",
    "\n",
    "# det_image_seq2_MIRIFUSHORT_12SHORTexp1_s3d.fits\n",
    "ifu2 = IFU('https://stsci.box.com/shared/static/26yl2k3hwp9c2jfj4cvdl6zk967x5fr5.fits')\n",
    "\n",
    "# det_image_seq3_MIRIFUSHORT_12SHORTexp1_s3d.fits\n",
    "ifu3 = IFU('https://stsci.box.com/shared/static/ysq4qk76mau1bw0krn1bim6fqilv2ocx.fits')\n",
    "\n",
    "# det_image_seq4_MIRIFUSHORT_12SHORTexp1_s3d.fits\n",
    "ifu4 = IFU('https://stsci.box.com/shared/static/0ke8k8ltzhgwkkbghvsmvqu0p1qkau9h.fits')"
   ]
  },
  {
   "cell_type": "markdown",
   "metadata": {},
   "source": [
    "The IFU cubes are loaded up and we are going to display a single slice for each of the sequences. Given the data cubes, we know that Sequence 1 and Sequence 2 should line up.  Sequence 3 and 4 line up with each other but do not line up with Sequence 1 or 2.\n",
    "\n",
    "This can be seen in the images below as the bright peak is shifted slightly down in the image in Sequence 3 and 4."
   ]
  },
  {
   "cell_type": "code",
   "execution_count": null,
   "metadata": {},
   "outputs": [],
   "source": [
    "plt.figure(1, figsize=[10,8])\n",
    "\n",
    "ifu1_data, ifu1_wcs = ifu1.data(sl)\n",
    "plt.subplot(2,2,1, projection=ifu1_wcs)\n",
    "show(ifu1_data, 'Sequence 1')\n",
    "\n",
    "ifu2_data, ifu2_wcs = ifu2.data(sl)\n",
    "plt.subplot(2,2,2, projection=ifu2_wcs)\n",
    "show(ifu2_data, 'Sequence 2')\n",
    "\n",
    "ifu3_data, ifu3_wcs = ifu3.data(sl)\n",
    "plt.subplot(2,2,3, projection=ifu3_wcs)\n",
    "show(ifu1_data, 'Sequence 3')\n",
    "\n",
    "ifu4_data, ifu4_wcs = ifu4.data(sl)\n",
    "plt.subplot(2,2,4, projection=ifu4_wcs)\n",
    "show(ifu4_data, 'Sequence 4')\n"
   ]
  },
  {
   "cell_type": "markdown",
   "metadata": {},
   "source": [
    "## Reproject onto a Common Grid"
   ]
  },
  {
   "cell_type": "markdown",
   "metadata": {},
   "source": [
    "The next step will be to reproject them onto a common grid in order to do alignment.  To do the reprojection, the [reproject package](https://github.com/astrofrog/reproject) is used here.\n",
    "\n",
    "For this, Sequence 2, Sequence 3 and Sequence 4 images will be reprojected onto Sequence 1.  This uses the WCS information used in each of the IFU cubes"
   ]
  },
  {
   "cell_type": "code",
   "execution_count": null,
   "metadata": {},
   "outputs": [],
   "source": [
    "ifu1_data, ifu1_wcs = ifu1.data(sl)\n",
    "ifu2_data, ifu2_wcs = ifu2.data(sl)\n",
    "ifu3_data, ifu3_wcs = ifu3.data(sl)\n",
    "ifu4_data, ifu4_wcs = ifu4.data(sl)\n",
    "\n",
    "ifu1_data_reproj = ifu1_data\n",
    "ifu2_data_reproj, footprint2 = reproject_interp((ifu2_data, ifu2_wcs), ifu1_wcs, ifu1_data.shape)\n",
    "ifu3_data_reproj, footprint3 = reproject_interp((ifu3_data, ifu3_wcs), ifu1_wcs, ifu1_data.shape)\n",
    "ifu4_data_reproj, footprint4 = reproject_interp((ifu4_data, ifu4_wcs), ifu1_wcs, ifu1_data.shape)"
   ]
  },
  {
   "cell_type": "code",
   "execution_count": null,
   "metadata": {},
   "outputs": [],
   "source": [
    "plt.figure(2,  figsize=[10,8])\n",
    "plt.clf()\n",
    "plt.subplot(221, projection=ifu1_wcs)\n",
    "show(ifu1_data, 'Sequence 1')\n",
    "\n",
    "plt.subplot(222, projection=ifu1_wcs)\n",
    "show(ifu2_data_reproj, 'Sequence 2 - Reprojected')\n",
    "\n",
    "plt.subplot(223, projection=ifu1_wcs)\n",
    "show(ifu3_data_reproj, 'Sequence 3 - Reprojected')\n",
    "\n",
    "plt.subplot(224, projection=ifu1_wcs)\n",
    "show(ifu4_data_reproj, 'Sequence 4 - Reprojected')\n"
   ]
  },
  {
   "cell_type": "markdown",
   "metadata": {},
   "source": [
    "So, as expected, Sequence 1 and 2 are still centered at the correct location, but Sequence 3 and 4 are still shifted slightly lower and to the right.  But, at this point, all the images are in the same WCS frame (Sequence 1)."
   ]
  },
  {
   "cell_type": "markdown",
   "metadata": {},
   "source": [
    "## Alignment"
   ]
  },
  {
   "cell_type": "markdown",
   "metadata": {},
   "source": [
    "This alignment uses mouse clicks on the image to determine how much to shift images 2 and on in order to map it back to the first image.\n",
    "\n",
    "There are two methods used in the mapping, one is an image \"roll\" based on numpy.roll and the second is is an interpolation based on scipy.ndimage.interpolation.shift."
   ]
  },
  {
   "cell_type": "markdown",
   "metadata": {},
   "source": [
    "**How to use this (manual point selection)**\n",
    "\n",
    "Change the variable manual_selection to True\n",
    "\n",
    "Click N points in the first image on specific features. Then when done click on the right mouse button.\n",
    "\n",
    "In the subsequent images, click the **same** features and when done click on the right mouse button.\n",
    "\n",
    "Once the clicking is done on the last image go to the next notebook cell and run it.\n",
    "\n",
    "**How to use this (use points dictionary)**\n",
    "\n",
    "Change the variable manual_selection = False"
   ]
  },
  {
   "cell_type": "code",
   "execution_count": null,
   "metadata": {},
   "outputs": [],
   "source": [
    "images = [ifu1_data_reproj, ifu2_data_reproj, ifu3_data_reproj, ifu4_data_reproj]\n",
    "\n",
    "# Change to True to manually select points.\n",
    "manual_selection = False\n",
    "\n",
    "if manual_selection == True:\n",
    "    points = None\n",
    "else:    \n",
    "    points = {0: [(10.36404220779221, 25.667816558441558),\n",
    "                  (14.260146103896105, 25.126691017316016)],\n",
    "              1: [(10.039366883116884, 25.451366341991342),\n",
    "                  (14.368371212121215, 25.55959145021645)],\n",
    "              2: [(13.719020562770567, 22.745738636363633),\n",
    "                  (18.15625, 23.07041396103896)],\n",
    "              3: [(13.286120129870131, 22.745738636363633),\n",
    "                  (17.506899350649356, 22.962188852813853)]}\n",
    "\n",
    "\n",
    "dg = DisplayGinput(images, points)"
   ]
  },
  {
   "cell_type": "markdown",
   "metadata": {},
   "source": [
    "## Sum Images from Each Method"
   ]
  },
  {
   "cell_type": "markdown",
   "metadata": {},
   "source": [
    "And finally, now that we have Sequences 2, 3 and 4 reprojected onto 1 and then aligned using several algorithms in the image-registration package, the sum of the 4 dithers can be calculated using the different methods. The first method is reprojection only and no alignment."
   ]
  },
  {
   "cell_type": "code",
   "execution_count": null,
   "metadata": {},
   "outputs": [],
   "source": [
    "registered_images_roll = dg.reg_images(interpolate=False)\n",
    "registered_images_interp = dg.reg_images(interpolate=True)\n",
    "\n",
    "registered_image_roll = np.sum(np.stack(registered_images_roll, axis=-1), axis=2)\n",
    "registered_image_interp = np.sum(np.stack(registered_images_interp, axis=-1), axis=2)\n",
    "\n",
    "plt.figure(6,  figsize=[8,8])\n",
    "plt.clf()\n",
    "plt.subplot(211, projection=ifu1_wcs)\n",
    "show(registered_image_roll, 'Image Roll')\n",
    "\n",
    "plt.subplot(212, projection=ifu1_wcs)\n",
    "show(registered_image_interp, 'Image Interp')"
   ]
  },
  {
   "cell_type": "code",
   "execution_count": null,
   "metadata": {},
   "outputs": [],
   "source": []
  }
 ],
 "metadata": {
  "kernelspec": {
   "display_name": "Python 3",
   "language": "python",
   "name": "python3"
  },
  "language_info": {
   "codemirror_mode": {
    "name": "ipython",
    "version": 3
   },
   "file_extension": ".py",
   "mimetype": "text/x-python",
   "name": "python",
   "nbconvert_exporter": "python",
   "pygments_lexer": "ipython3",
   "version": "3.6.6"
  }
 },
 "nbformat": 4,
 "nbformat_minor": 2
}
