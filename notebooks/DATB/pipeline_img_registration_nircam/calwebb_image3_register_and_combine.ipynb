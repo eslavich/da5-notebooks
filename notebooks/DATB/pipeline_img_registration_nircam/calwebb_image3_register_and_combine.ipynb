{
 "cells": [
  {
   "cell_type": "markdown",
   "metadata": {},
   "source": [
    "# Image Registration and Combination using the JWST Level 3 Pipeline"
   ]
  },
  {
   "cell_type": "markdown",
   "metadata": {},
   "source": [
    "## Table of Contents:\n",
    "> * [Imports](#imports)\n",
    "> * [Introduction](#introduction)\n",
    "> * [Optional CRDS set up](#crds)\n",
    "> * [Loading data](#get_data)\n",
    ">     * [Download Association file](#download_asn)\n",
    ">     * [Download FITS files](#download_fits)\n",
    ">     * [Create Configuration Files](#pipeline_configs)\n",
    "> * [File Information](#file_info)\n",
    ">     * [Create Association table](#create_association) (optional)\n",
    ">     * [FITS files](#fits_info)\n",
    "> * [Methods of calling the pipeline](#methods)\n",
    ">     * [Run Pipeline with Configuration Files](#pipeline_with_cfgs)\n",
    ">     * [Run Pipeline with Paramters Set Programmatically](#pipeline_no_configs)\n",
    ">     * [Run Individual Steps with Configuration Files](#steps_with_config_files)\n",
    ">     * [Run Individual Steps with Parameters Set Programmatically](#steps_no_configs)\n",
    "> * [Additional Resources](#addtl_resources)\n",
    "> * [About this notebook](#about)"
   ]
  },
  {
   "cell_type": "markdown",
   "metadata": {},
   "source": [
    "***\n",
    "<a id='imports'></a>\n",
    "## Imports"
   ]
  },
  {
   "cell_type": "markdown",
   "metadata": {},
   "source": [
    "* `os` to help import the data used for this notebook\n",
    "* `requests` to retrieve the data used for this notebook\n",
    "* `astropy.io fits` for accessing FITS files\n",
    "* `astropy.table Table` for reading in source catalog files\n",
    "* `astropy.visualization` simple_norm for creating visualizations of astronomical data\n",
    "* `matplotlib.pyplot` for plotting data\n",
    "* `matplotlib inline` to display plots inline"
   ]
  },
  {
   "cell_type": "markdown",
   "metadata": {},
   "source": [
    "First, we must define environment variables for the CRDS server. This is necessary if you are not on the STScI internal network.  For more info, see [Optional CRDS set up](#crds)."
   ]
  },
  {
   "cell_type": "code",
   "execution_count": null,
   "metadata": {},
   "outputs": [],
   "source": [
    "import os\n",
    "os.environ['CRDS_SERVER_URL'] = 'https://jwst-crds.stsci.edu/'\n",
    "os.environ['CRDS_PATH'] = '.'"
   ]
  },
  {
   "cell_type": "code",
   "execution_count": null,
   "metadata": {},
   "outputs": [],
   "source": [
    "import requests\n",
    "from astropy.io import fits\n",
    "from astropy.table import Table\n",
    "from astropy.visualization import simple_norm, LogStretch, ImageNormalize, ManualInterval\n",
    "import matplotlib.pyplot as plt\n",
    "%matplotlib inline"
   ]
  },
  {
   "cell_type": "markdown",
   "metadata": {},
   "source": [
    "* jwst.pipeline Image3Pipeline to run the pipeline\n",
    "* jwst datamodels objects used by the pipeline, which contain astronomical data\n",
    "* jwst.associations load_asn reads in association file containing a list of FITS files"
   ]
  },
  {
   "cell_type": "code",
   "execution_count": null,
   "metadata": {},
   "outputs": [],
   "source": [
    "# Import pipeline\n",
    "from jwst.pipeline import Image3Pipeline\n",
    "from jwst import datamodels\n",
    "from jwst.associations import load_asn"
   ]
  },
  {
   "cell_type": "code",
   "execution_count": null,
   "metadata": {},
   "outputs": [],
   "source": [
    "# Import individual pipeline steps\n",
    "from jwst.tweakreg import tweakreg_step\n",
    "from jwst.skymatch import skymatch_step\n",
    "from jwst.outlier_detection import outlier_detection_step\n",
    "from jwst.resample import resample_step\n",
    "from jwst.source_catalog import source_catalog_step"
   ]
  },
  {
   "cell_type": "markdown",
   "metadata": {},
   "source": [
    "***\n",
    "<a id='introduction'></a>\n",
    "## Introduction"
   ]
  },
  {
   "cell_type": "markdown",
   "metadata": {},
   "source": [
    "The purpose of this notebook is to illustrate several ways to perform level 3 processing on a set of input imaging data.\n",
    "\n",
    "Level 3 imaging processing combines the calibrated data from multiple exposures (e.g., dithered or mosaicked data) into a single distortion-corrected product. This is accomplished using the [**calwebb_image3** pipeline](https://jwst-pipeline.readthedocs.io/en/stable/jwst/pipeline/description.html#stage-3-imaging-pipeline-step-flow-calwebb-image3) or its constituent steps. Before being combined, the exposures receive additional corrections/calibrations for the purpose of astrometric alignment, background matching, and outlier rejection. See the [Additional Resources](#addtl_resources) section for links to documentation on the calwebb_image3 steps.\n",
    "\n",
    "> **Inputs**: The inputs to **calwebb\\_image3** or its steps will usually be in the form of an [association (ASN) file](https://jwst-pipeline.readthedocs.io/en/stable/jwst/associations/overview.html) that lists multiple associated 2D calibrated exposures (FITS files) to be processed and combined into a single product. The individual exposures should be calibrated (filenames ending in \"\\_cal.fits\") outputs from the [**calwebb\\_image2** pipeline](https://jwst-pipeline.readthedocs.io/en/stable/jwst/pipeline/description.html#stage-2-imaging-pipeline-step-flow-calwebb-image2). It is also possible use a single \"*\\_cal.fits\" file as input, in which case only the **resample** and **source\\_catalog** steps of the **calwebb\\_image3** pipeline will be applied.\n",
    "\n",
    "> **Outputs**: A resampled 2D image product with suffix \"i2d.fits\" is created, containing the rectified (distortion-free) single exposure or the rectified and combined data from the association of exposures. A source catalog produced from the \"i2d\" product is saved as an ASCII file in \"ecsv\" format, with a filename suffix of \"cat\". If the **outlier_detection** step is run, a new version of each input file is created which contains a data quality (DQ) array that has been updated to flag pixels detected as outliers. This updated product is known as a [\"cosmic ray-flagged\" product](https://jwst-pipeline.readthedocs.io/en/stable/jwst/pipeline/description.html?highlight=crf#id14) and is saved to a file with a name matching the input filename but with filetype \"crf\"."
   ]
  },
  {
   "cell_type": "markdown",
   "metadata": {},
   "source": [
    "The calibrations performed by the Level 3 pipeline can be run in several different ways. First, there are two ways to call the appropriate pipeline steps:\n",
    "\n",
    "- Call the pipeline itself\n",
    "- Call the individual steps that make up the pipeline\n",
    "\n",
    "With the former method, only a single call is needed to run the entire pipeline with the appropriate steps in the proper order. The latter method allows you to inspect and potentially modify the output from a given step before moving on to the next. \n",
    "\n",
    "In addition, there are two methods for calling the pipeline or pipeline steps.\n",
    "\n",
    "- Using [**configuration files**](https://jwst-pipeline.readthedocs.io/en/stable/jwst/introduction.html#configuration-files)\n",
    "- Setting parameters programmatically\n",
    "\n",
    "In this notebook, we show examples of all four combinations:\n",
    "\n",
    "[Methods of calling the level 3 pipeline](#methods)\n",
    "1. [Call the pipeline with configuration files](#pipeline_with_cfgs)\n",
    "2. [Call the pipeline with parameters set programmatically](#pipeline_no_configs)\n",
    "3. [Call the individual pipeline steps using configuration files](#steps_with_config_files)\n",
    "4. [Call the individual pipeline steps with parameters set programmatically](#steps_no_configs)"
   ]
  },
  {
   "cell_type": "markdown",
   "metadata": {},
   "source": [
    "***\n",
    "<a id='crds'></a>\n",
    "## Optional CRDS Setup"
   ]
  },
  {
   "cell_type": "markdown",
   "metadata": {},
   "source": [
    "In order to run this notebook, you must have access to the appropriate Calibration Reference Data System (CRDS) files needed by the pipeline. If you are not on the STScI internal network, the easiest way to ensure that you can get the necessary files is to define the two environment variables described in the CRDS [offsite use](https://jwst-crds.stsci.edu/static/users_guide/basic_use.html#setup-for-offsite-use) documentation. The **CRDS_SERVER_URL** tells the pipeline where to look for reference files, and the **CRDS_PATH** variable lists where any downloaded reference files should be placed. See the cell below for an example. If you do not have a local copy of the CRDS files, they will be downloaded on an as-needed basis when pipeline steps are executed. If you are on the internal STScI network, this step can be skipped."
   ]
  },
  {
   "cell_type": "markdown",
   "metadata": {},
   "source": [
    "- `$ export CRDS_SERVER_URL=https://jwst-crds.stsci.edu/ `\n",
    "- `$ export CRDS_PATH=${HOME}/crds_cache/ `"
   ]
  },
  {
   "cell_type": "markdown",
   "metadata": {},
   "source": [
    "***\n",
    "<a id='get_data'></a>\n",
    "## Loading data"
   ]
  },
  {
   "cell_type": "markdown",
   "metadata": {},
   "source": [
    "An example dataset to be used with this notebook is present in our Box repository. The cells below download:\n",
    "\n",
    "1. The association file to be used as input to the pipeline\n",
    "2. The fits files listed in the association file"
   ]
  },
  {
   "cell_type": "code",
   "execution_count": null,
   "metadata": {},
   "outputs": [],
   "source": [
    "box_path = 'https://stsci.box.com/shared/static/'"
   ]
  },
  {
   "cell_type": "code",
   "execution_count": null,
   "metadata": {},
   "outputs": [],
   "source": [
    "def download_file(url):\n",
    "    \"\"\"Download into the current working directory the\n",
    "    file from Box given the direct URL\n",
    "    \n",
    "    Parameters\n",
    "    ----------\n",
    "    url : str\n",
    "        URL to the file to be downloaded\n",
    "        \n",
    "    Returns\n",
    "    -------\n",
    "    download_filename : str\n",
    "        Name of the downloaded file\n",
    "    \"\"\"\n",
    "    response = requests.get(url, stream=True)\n",
    "    if response.status_code != 200:\n",
    "        raise RuntimeError(\"Wrong URL - {}\".format(url))\n",
    "    download_filename = response.headers['Content-Disposition'].split('\"')[1]\n",
    "    with open(download_filename, 'wb') as f:\n",
    "        for chunk in response.iter_content(chunk_size=1024):\n",
    "            if chunk:\n",
    "                f.write(chunk)\n",
    "    return download_filename"
   ]
  },
  {
   "cell_type": "markdown",
   "metadata": {},
   "source": [
    "<a id='download_asn'></a>\n",
    "### Define direct links the association and FITS files"
   ]
  },
  {
   "cell_type": "code",
   "execution_count": null,
   "metadata": {},
   "outputs": [],
   "source": [
    "# Use these links to combine 2 images\n",
    "association_file_link = 'sg1fxlyxu42sx025tjr8kzi9ahp92hd5.json'\n",
    "fits_box_links = ['ps1m5z30oodii33rdzm0w7a4kqypyv6s.fits', \n",
    "                  '844vj9yqjyfeiifwfrcxfrm57k3qftd1.fits']"
   ]
  },
  {
   "cell_type": "code",
   "execution_count": null,
   "metadata": {},
   "outputs": [],
   "source": [
    "# Use these links to combine 16 images\n",
    "# NOTE:  With all 16 files, ~3.6 GB of disk space will be needed to run this notebook\n",
    "# and it will take much longer to run.\n",
    "\n",
    "# association_file_link = 'jdgpjy52yvvos5kk0108numipfgdnfkj.json'\n",
    "# fits_box_links = ['ps1m5z30oodii33rdzm0w7a4kqypyv6s.fits', 'jf3iukp6bjka2odvqkmph84zgrgw61pg.fits',\n",
    "#                  'dckezlakr8a1aqoagoup9qr69404rult.fits', 'lpzmfxgtadu1krh11pj9emv2tlcbbb08.fits',\n",
    "#                  '844vj9yqjyfeiifwfrcxfrm57k3qftd1.fits', '0nc0g6887hpjp4mu7g75oqzq3mtcn5kk.fits',\n",
    "#                  'pd9k9hm7zbp63b20trnquxzsvkbaijlj.fits', 'p0rzb9njw0nx5p8pjmko9p4i9d1sqrxq.fits',\n",
    "#                  '5r74nm0s1svbpm8frb3v2ljfzwju6yt3.fits', '75jpbzjaqm5owxqhzbz32plu5s28cwj5.fits',\n",
    "#                  'j8gzofqew5m33m090dcvjd5dv7w8bcdy.fits', '6vyp86zmnk78v01w0cklrunfvsogwzh2.fits',\n",
    "#                  'vx1lpbhqg8ohxq8nshgqkwlyp8mnq3ry.fits', '34zrr17waagax636cnmrf59qbbm9ojtz.fits',\n",
    "#                  '83i1pior38yijh8urudkbamqjc77rkay.fits', '32cebe1om7asz5uphygeibjq5pief8xs.fits']"
   ]
  },
  {
   "cell_type": "markdown",
   "metadata": {},
   "source": [
    "<a id='download_asn'></a>\n",
    "### Download Association file"
   ]
  },
  {
   "cell_type": "code",
   "execution_count": null,
   "metadata": {},
   "outputs": [],
   "source": [
    "association_url = os.path.join(box_path, association_file_link)\n",
    "association_file = download_file(association_url)\n",
    "print(association_file)"
   ]
  },
  {
   "cell_type": "markdown",
   "metadata": {},
   "source": [
    "<a id='download_fits'></a>\n",
    "### Download FITS files"
   ]
  },
  {
   "cell_type": "code",
   "execution_count": null,
   "metadata": {},
   "outputs": [],
   "source": [
    "# Grab a copy of the data used in this notebook from the Box repository\n",
    "for boxfile in fits_box_links:\n",
    "    file_url = os.path.join(box_path, boxfile)\n",
    "    fits_file = download_file(file_url)\n",
    "    print(\"Downloading {}\".format(fits_file))"
   ]
  },
  {
   "cell_type": "markdown",
   "metadata": {},
   "source": [
    "***\n",
    "<a id='pipeline_configs'></a>\n",
    "### Create Configuration Files"
   ]
  },
  {
   "cell_type": "markdown",
   "metadata": {},
   "source": [
    "A copy of the pipeline configuration files used in this notebook are included in this repository. For details on configuration files, see the [JWST configuration file documentation page](https://jwst-pipeline.readthedocs.io/en/stable/jwst/introduction.html#configuration-files)."
   ]
  },
  {
   "cell_type": "markdown",
   "metadata": {},
   "source": [
    "Configuration files are optional inputs for each step of the pipeline, as well as for the pipeline itself. These files list step-specific parameters, and can also be used to control which steps are run as part of the pipeline.\n",
    "\n",
    "You can get the full compliment of configuration files using the `collect_pipeline_cfgs` convenience function from the command line:\n",
    "\n",
    ">`$ collect_pipeline_cfgs ./`\n",
    "\n",
    "This creates a copy of all configuration files, for all steps and all JWST Instruments. Note that default parameters in the config files are not necessarily optimized for any particular instrument. For the purposes of this notebook, we will use the default versions of the configuration files.\n",
    "\n",
    "Each of these configuration files can be customized to control pipeline behavior. For example, the configuration file for the Level 3 imaging pipeline is called **calwebb_image3.cfg** and contains a list (not necessarily in order) of the steps run as part of the Level 3 imaging pipeline.\n",
    "\n",
    "\n",
    "    name = \"Image3Pipeline\"\n",
    "    class = \"jwst.pipeline.Image3Pipeline\"\n",
    "\n",
    "        [steps]\n",
    "          [[tweakreg]]\n",
    "            config_file = tweakreg.cfg\n",
    "            skip = True\n",
    "          [[skymatch]]\n",
    "            config_file = skymatch.cfg\n",
    "          [[outlier_detection]]\n",
    "            config_file = outlier_detection.cfg\n",
    "          [[resample]]\n",
    "            config_file = resample.cfg\n",
    "          [[source_catalog]]\n",
    "            config_file = source_catalog.cfg\n",
    "            save_results = true\n",
    "        \n",
    "In the example shown above, the ***tweakreg*** step will be skipped (`skip = True`), and the output from the ***source_catalog*** step will be saved (`save_results = True`).\n",
    "\n",
    "Note that **calwebb_image3.cfg** lists a configuration file for each pipeline step. You can customize a particular pipeline step by editing the parameters in its configuration file. For example, the source catalog configuration file, shown below, contains details on the kernel size and FWHM, as well as the signal to noise threshold to use in the identification of sources in the final combined image. \n",
    "\n",
    "\n",
    "    name = \"source_catalog\"\n",
    "    class = \"jwst.source_catalog.SourceCatalogStep\"\n",
    "\n",
    "    kernel_fwhm = 3.\n",
    "    kernel_xsize = 5.\n",
    "    kernel_ysize = 5.\n",
    "    snr_threshold = 3.\n",
    "    npixels = 50\n",
    "    deblend = False"
   ]
  },
  {
   "cell_type": "markdown",
   "metadata": {},
   "source": [
    "***\n",
    "<a id='file_info'></a>\n",
    "### File Information"
   ]
  },
  {
   "cell_type": "markdown",
   "metadata": {},
   "source": [
    "#### Association Table"
   ]
  },
  {
   "cell_type": "markdown",
   "metadata": {},
   "source": [
    "The first file downloaded above was an association table. This is the input to the calwebb_image3 pipeline, and is a **json** file that contains a list of all the FITS files to be combined into a single mosaic using the calwebb_imaging3 pipeline. An example association table is shown below.\n",
    "\n",
    "Files that cannot be combined (e.g. NIRCam shortwave and longwave data) must be placed in separate association tables."
   ]
  },
  {
   "cell_type": "markdown",
   "metadata": {},
   "source": [
    "#### Example Association Table"
   ]
  },
  {
   "cell_type": "markdown",
   "metadata": {},
   "source": [
    "The cell below shows an example association table composed of two dithers of the shortwave NIRCam B module. Detectors B1 through B4 comprise the B module. Note that in the filenames below there are two appearances of each of these detectors (e.g. nrcb1)."
   ]
  },
  {
   "cell_type": "raw",
   "metadata": {},
   "source": [
    "{\n",
    "    \"asn_type\": \"None\",\n",
    "    \"asn_rule\": \"DMS_Level3_Base\",\n",
    "    \"version_id\": null,\n",
    "    \"code_version\": \"0.10.1a.dev241\",\n",
    "    \"degraded_status\": \"No known degraded exposures in association.\",\n",
    "    \"program\": \"10002\",\n",
    "    \"constraints\": \"No constraints\",\n",
    "    \"asn_id\": \"a3001\",\n",
    "    \"target\": \"none\",\n",
    "    \"asn_pool\": \"none\",\n",
    "    \"products\": [\n",
    "        {\n",
    "            \"name\": \"jw10002_short\",\n",
    "            \"members\": [\n",
    "                {\n",
    "                    \"expname\": \"jw10002001001_01101_00001_nrcb1_cal.fits\",\n",
    "                    \"exptype\": \"science\"\n",
    "                },\n",
    "                {\n",
    "                    \"expname\": \"jw10002001001_01101_00001_nrcb2_cal.fits\",\n",
    "                    \"exptype\": \"science\"\n",
    "                },\n",
    "                {\n",
    "                    \"expname\": \"jw10002001001_01101_00001_nrcb3_cal.fits\",\n",
    "                    \"exptype\": \"science\"\n",
    "                },\n",
    "                {\n",
    "                    \"expname\": \"jw10002001001_01101_00001_nrcb4_cal.fits\",\n",
    "                    \"exptype\": \"science\"\n",
    "                },\n",
    "                {\n",
    "                    \"expname\": \"jw10002001001_01102_00001_nrcb1_cal.fits\",\n",
    "                    \"exptype\": \"science\"\n",
    "                },\n",
    "                {\n",
    "                    \"expname\": \"jw10002001001_01102_00001_nrcb2_cal.fits\",\n",
    "                    \"exptype\": \"science\"\n",
    "                },\n",
    "                {\n",
    "                    \"expname\": \"jw10002001001_01102_00001_nrcb3_cal.fits\",\n",
    "                    \"exptype\": \"science\"\n",
    "                },\n",
    "                {\n",
    "                    \"expname\": \"jw10002001001_01102_00001_nrcb4_cal.fits\",\n",
    "                    \"exptype\": \"science\"\n",
    "                }\n",
    "            ]\n",
    "        }\n",
    "    ]\n",
    "}"
   ]
  },
  {
   "cell_type": "markdown",
   "metadata": {},
   "source": [
    "***\n",
    "<a id='create_association'></a>\n",
    "#### Create an Association Table from Scratch"
   ]
  },
  {
   "cell_type": "markdown",
   "metadata": {},
   "source": [
    "It is possible to create your own association file if you have a list of data files to be calibrated. Currently the best way to do this is using the **asn_from_list** tool on the command line.\n",
    "\n",
    ">`$ asn_from_list *_cal.fits -o jw1002_level3_asn.json --product-name jw10002_short/`"
   ]
  },
  {
   "cell_type": "markdown",
   "metadata": {},
   "source": [
    "<a id='fits_info'></a>\n",
    "#### FITS files"
   ]
  },
  {
   "cell_type": "markdown",
   "metadata": {},
   "source": [
    "The FITS files downloaded above are from an example NIRCam dataset containing data from the 4 detectors which comprise the shortwave B module. The 16 FITS files correspond to 4 dithers using all 4 detectors.\n",
    "\n",
    "Each multi extension FITS file contains the following extensions:\n",
    "\n",
    "    * 0: PRIMARY. Header information only\n",
    "    * 1: SCI. 2D astronomical source image\n",
    "    * 2: ERR. 2D error array associated with the source image\n",
    "    * 3: DQ. 2D array of bad pixel flags \n",
    "    * 4: AREA. 2D array containing a normalized pixel area map\n",
    "    * 5: VAR_POISSON. 2D array of variance values from Poisson noise\n",
    "    * 6: VAR_RNOISE. 2D array of variance values from readnoise\n",
    "    * 7: ASDF. Contains WCS information about the observation"
   ]
  },
  {
   "cell_type": "markdown",
   "metadata": {},
   "source": [
    "***\n",
    "<a id=\"methods\"></a>\n",
    "## Methods of calling the pipeline"
   ]
  },
  {
   "cell_type": "markdown",
   "metadata": {},
   "source": [
    "The 4 methods for calling the pipeline:\n",
    "1. [Call the pipeline with configuration files](#pipeline_with_cfgs)\n",
    "2. [Call the pipeline with parameters set programmatically](#pipeline_no_configs)\n",
    "3. [Call the individual pipeline steps using configuration files](#steps_with_config_files)\n",
    "4. [Call the individual pipeline steps with parameters set programmatically](#steps_no_configs)"
   ]
  },
  {
   "cell_type": "markdown",
   "metadata": {},
   "source": [
    "***\n",
    "<a id=\"pipeline_with_cfgs\"></a>\n",
    "### Run Pipeline with Configuration Files"
   ]
  },
  {
   "cell_type": "markdown",
   "metadata": {},
   "source": [
    "Once you have edited the configuration files to customize the Level 3 pipeline, the command below will run the pipeline. This will generate the following products:\n",
    "\n",
    " - Final source catalog ***cat.ecsv***\n",
    " - Final 2D image ***i2d.fits***\n",
    " - Individual exposures with DQ array flagged for outliers ***crf.fits***\n",
    " - Individual blotted images from the outlier detection step ***blot.fits***."
   ]
  },
  {
   "cell_type": "markdown",
   "metadata": {},
   "source": [
    "***\n",
    "**WARNING:** when using configuration files, the pipeline must be called using the **call** method. There is also a **run** method (which can be used when calling with [parameters set programmatically](#pipeline_no_configs)). Only the **call** method inspects the configuration files. Any configuration files provided to the **run** method will be ignored!\n",
    "***"
   ]
  },
  {
   "cell_type": "code",
   "execution_count": null,
   "metadata": {
    "scrolled": true
   },
   "outputs": [],
   "source": [
    "# Note that the basename of the output combined image is set in the association file\n",
    "# in the \"name\" field.\n",
    "m = Image3Pipeline.call(association_file, config_file='calwebb_image3.cfg')"
   ]
  },
  {
   "cell_type": "markdown",
   "metadata": {},
   "source": [
    "#### Source Catalog"
   ]
  },
  {
   "cell_type": "markdown",
   "metadata": {},
   "source": [
    "Note that the filename of the output source catalog and combined image is specified in the `\"name\"` field in the association file which was input to the pipeline. The basename value in the association table has `_cat.ecsv` appended to create the source catalog filename, and `_i2d.fits` appended to create the output image filename."
   ]
  },
  {
   "cell_type": "code",
   "execution_count": null,
   "metadata": {},
   "outputs": [],
   "source": [
    "# Examine the source catalog product\n",
    "catalog = Table.read(\"jw10002_short_cat.ecsv\",format='ascii.ecsv')"
   ]
  },
  {
   "cell_type": "code",
   "execution_count": null,
   "metadata": {},
   "outputs": [],
   "source": [
    "# List columns in the source catalog\n",
    "print(catalog.colnames)"
   ]
  },
  {
   "cell_type": "code",
   "execution_count": null,
   "metadata": {},
   "outputs": [],
   "source": [
    "# Show the catalog\n",
    "catalog"
   ]
  },
  {
   "cell_type": "markdown",
   "metadata": {},
   "source": [
    "#### View the Final Combined 2D Image"
   ]
  },
  {
   "cell_type": "code",
   "execution_count": null,
   "metadata": {},
   "outputs": [],
   "source": [
    "# Combined image\n",
    "combined_image_file = 'jw10002_short_i2d.fits'\n",
    "combined_image = fits.getdata(combined_image_file)"
   ]
  },
  {
   "cell_type": "code",
   "execution_count": null,
   "metadata": {},
   "outputs": [],
   "source": [
    "norm = ImageNormalize(combined_image, interval=ManualInterval(vmin=0, vmax=50), stretch=LogStretch())\n",
    "fig = plt.figure(figsize=(12,12))\n",
    "ax = fig.add_subplot(1, 1, 1)\n",
    "im = ax.imshow(combined_image, origin='lower', norm=norm)\n",
    "fig.colorbar(im)\n",
    "plt.show()"
   ]
  },
  {
   "cell_type": "markdown",
   "metadata": {},
   "source": [
    "***\n",
    "<a id=\"pipeline_no_configs\"></a>\n",
    "### Run Pipeline with Parameters Set Programmatically"
   ]
  },
  {
   "cell_type": "markdown",
   "metadata": {},
   "source": [
    "You can also run the pipeline without relying on configuration files by setting parameters programmatically, in combination with relying on the defaults in the pipeline. Note that this makes use of the **run** method."
   ]
  },
  {
   "cell_type": "code",
   "execution_count": null,
   "metadata": {
    "scrolled": true
   },
   "outputs": [],
   "source": [
    "m = Image3Pipeline()\n",
    "\n",
    "# You can skip steps and change parameter values.\n",
    "# Note that the attribute names below match those in the configuration file for the appropriate pipeline step\n",
    "m.tweakreg.skip = False\n",
    "m.source_catalog.snr_threshold = 10\n",
    "m.source_catalog.output_file = 'jw10002_short_no_cfgs_cat.ecsv'\n",
    "m.save_results = True\n",
    "\n",
    "# Run the pipeline with these paramters\n",
    "m.run(association_file)"
   ]
  },
  {
   "cell_type": "markdown",
   "metadata": {},
   "source": [
    "#### Source Catalog"
   ]
  },
  {
   "cell_type": "markdown",
   "metadata": {},
   "source": [
    "In this case we specified the output source catalog filename before running the pipeline."
   ]
  },
  {
   "cell_type": "code",
   "execution_count": null,
   "metadata": {
    "scrolled": true
   },
   "outputs": [],
   "source": [
    "# Examine source catalog product\n",
    "catalog = Table.read(m.source_catalog.output_file, format='ascii.ecsv')\n",
    "catalog"
   ]
  },
  {
   "cell_type": "markdown",
   "metadata": {},
   "source": [
    "#### Combined Image"
   ]
  },
  {
   "cell_type": "markdown",
   "metadata": {},
   "source": [
    "In order to access the combined image created by the call to the pipeline above, you must read in the output `i2d` file. The output filename is specified in the association file which was input to the pipeline."
   ]
  },
  {
   "cell_type": "code",
   "execution_count": null,
   "metadata": {
    "scrolled": true
   },
   "outputs": [],
   "source": [
    "no_cfg = fits.getdata('jw10002_short_i2d.fits')"
   ]
  },
  {
   "cell_type": "code",
   "execution_count": null,
   "metadata": {},
   "outputs": [],
   "source": [
    "norm = ImageNormalize(no_cfg, interval=ManualInterval(vmin=0, vmax=50), stretch=LogStretch())\n",
    "fig = plt.figure(figsize=(12,12))\n",
    "ax = fig.add_subplot(1, 1, 1)\n",
    "im = ax.imshow(no_cfg, origin='lower', norm=norm)\n",
    "fig.colorbar(im)\n",
    "plt.show()"
   ]
  },
  {
   "cell_type": "markdown",
   "metadata": {},
   "source": [
    "***\n",
    "<a id=\"steps_with_config_files\"></a>\n",
    "### Run Individual Steps with Configuration Files"
   ]
  },
  {
   "cell_type": "markdown",
   "metadata": {},
   "source": [
    "It is also possible to call the individual pipeline steps, rather than the pipeline itself. Here we show an example of calling individual steps using their configuration files and the **call** method."
   ]
  },
  {
   "cell_type": "markdown",
   "metadata": {},
   "source": [
    "***\n",
    "**WARNING:** when using configuration files, the steps must be called using the **call** method. There is also a **run** method (which can be used when calling with [parameters set programmatically](#steps_no_configs). Only the **call** method inspects the configuration files. Any configuration files provided to the **run** method will be ignored!\n",
    "***"
   ]
  },
  {
   "cell_type": "markdown",
   "metadata": {},
   "source": [
    "The level 3 pipeline for imaging data (calwebb_image3) is composed of five steps. \n",
    "\n",
    " 1. [tweakreg](https://jwst-pipeline.readthedocs.io/en/stable/jwst/tweakreg/README.html): Performs image alignment using source catalogs.\n",
    " 2. [skymatch](https://jwst-pipeline.readthedocs.io/en/stable/jwst/skymatch/README.html): Measures and adjusts sky levels in input data so that they are consistent.\n",
    " 3. [outlier detection](https://jwst-pipeline.readthedocs.io/en/stable/jwst/outlier_detection/index.html): Searches for transient sources (e.g. cosmic rays) and flags them such that they are ignored during image combination.\n",
    " 4. [resample](https://jwst-pipeline.readthedocs.io/en/stable/jwst/resample/main.html): Will resample all individual images, taking into account WCS and distortion information and combines into a single, distortion-free product\n",
    " 5. [source catalog](https://jwst-pipeline.readthedocs.io/en/stable/jwst/source_catalog/main.html): Creates a final catalog of sources in the combined 2d image produced in the resample step."
   ]
  },
  {
   "cell_type": "markdown",
   "metadata": {},
   "source": [
    "Note how pipeline steps can be chained together: The initial (tweakreg_step) step takes the association file as input. Each subsequent step takes the output of the previous step (along with the appropriate configuration file) as its input."
   ]
  },
  {
   "cell_type": "markdown",
   "metadata": {},
   "source": [
    "Each pipeline step outputs an instance of a particular type of [datamodel](https://jwst-pipeline.readthedocs.io/en/stable/jwst/datamodels/models.html). For example, the Resample step outputs an instance of an ImageModel. Use the `data` attribute of a datamodel instance to view the 2D image in the instance. This differs from the `Image3Pipeline` instance, which returns nothing. In that case, the output file must be read in to access the final image."
   ]
  },
  {
   "cell_type": "code",
   "execution_count": null,
   "metadata": {
    "scrolled": true
   },
   "outputs": [],
   "source": [
    "tr_step = tweakreg_step.TweakRegStep.call(association_file, config_file='tweakreg.cfg')\n",
    "sky_step = skymatch_step.SkyMatchStep.call(tr_step, config_file='skymatch.cfg')\n",
    "out_step = outlier_detection_step.OutlierDetectionStep.call(sky_step, config_file='outlier_detection.cfg')\n",
    "resamp_step = resample_step.ResampleStep.call(out_step, config_file='resample.cfg',\n",
    "                                    output_file='jw10002_short_step_by_step_i2d.fits')\n",
    "sourcecat_step = source_catalog_step.SourceCatalogStep.call(resamp_step, config_file='source_catalog.cfg',\n",
    "                                               output_file='jw10002_short_step_by_step_cat.ecsv')"
   ]
  },
  {
   "cell_type": "markdown",
   "metadata": {},
   "source": [
    "Again, we specified the source catalog filename in the call to the SourceCatalogStep above."
   ]
  },
  {
   "cell_type": "code",
   "execution_count": null,
   "metadata": {},
   "outputs": [],
   "source": [
    "# Examine output catalog\n",
    "catalog = Table.read('jw10002_short_step_by_step_cat.ecsv',format='ascii.ecsv')\n",
    "catalog"
   ]
  },
  {
   "cell_type": "markdown",
   "metadata": {},
   "source": [
    "In this case, you can read in the data from the resampled output file which was specified above: `jw10002_short_step_by_step_i2d.fits`, or you can examine the image using the `data` attribute of the datamodel returned by the `resample` step."
   ]
  },
  {
   "cell_type": "code",
   "execution_count": null,
   "metadata": {},
   "outputs": [],
   "source": [
    "final_image = resamp_step.data\n",
    "\n",
    "# OR\n",
    "# final_image = fits.getdata('jw10002_short_step_by_step_i2d.fits')"
   ]
  },
  {
   "cell_type": "code",
   "execution_count": null,
   "metadata": {},
   "outputs": [],
   "source": [
    "# Look at registered & combined image\n",
    "f,a = plt.subplots(figsize=(12, 12))\n",
    "norm = simple_norm(final_image, 'log', min_cut=0, max_cut=50)\n",
    "img = a.imshow(final_image, norm=norm, origin='lower', cmap='viridis')\n",
    "f.colorbar(img)\n",
    "plt.show()"
   ]
  },
  {
   "cell_type": "markdown",
   "metadata": {},
   "source": [
    "***\n",
    "<a id=\"steps_no_configs\"></a>\n",
    "### Run Individual Steps with Parameters Set Programmatically"
   ]
  },
  {
   "cell_type": "markdown",
   "metadata": {},
   "source": [
    "As with the pipeline example, the individual pipeline steps can also have their parameters set programmatically before being called with the **run** method."
   ]
  },
  {
   "cell_type": "code",
   "execution_count": null,
   "metadata": {
    "scrolled": true
   },
   "outputs": [],
   "source": [
    "# Tweakreg\n",
    "tr = tweakreg_step.TweakRegStep()\n",
    "tr.save_catlogs = False\n",
    "tr.snr_threshold = 25.\n",
    "tr.minobj = 15\n",
    "tr_results = tr.run(association_file)"
   ]
  },
  {
   "cell_type": "code",
   "execution_count": null,
   "metadata": {
    "scrolled": true
   },
   "outputs": [],
   "source": [
    "# Skymatch\n",
    "sm = skymatch_step.SkyMatchStep()\n",
    "sm.skymethod = 'global+match'\n",
    "sm.subtract = False\n",
    "sm.skystat = 'mode'\n",
    "sm.save_results = False\n",
    "sm_results = sm.run(tr_results)"
   ]
  },
  {
   "cell_type": "code",
   "execution_count": null,
   "metadata": {
    "scrolled": true
   },
   "outputs": [],
   "source": [
    "# Outlier Detection\n",
    "od = outlier_detection_step.OutlierDetectionStep()\n",
    "od.weight_type = 'exptime'\n",
    "od.kernel = 'square'\n",
    "od.snr = '4.0 3.0'\n",
    "od.save_intermediate_results = False\n",
    "od.good_bits = 4\n",
    "od_results = od.run(sm_results)"
   ]
  },
  {
   "cell_type": "code",
   "execution_count": null,
   "metadata": {
    "scrolled": true
   },
   "outputs": [],
   "source": [
    "# Resample\n",
    "resamp = resample_step.ResampleStep()\n",
    "resamp.weight_type = 'exptime'\n",
    "resamp.good_bits = 4\n",
    "resamp.save_results = True\n",
    "resamp_results = resamp.run(od_results)"
   ]
  },
  {
   "cell_type": "code",
   "execution_count": null,
   "metadata": {},
   "outputs": [],
   "source": [
    "# Look at registered & combined image\n",
    "f,a = plt.subplots(figsize=(12, 12))\n",
    "norm = simple_norm(resamp_results.data, 'log', min_cut=0, max_cut=50)\n",
    "img = a.imshow(resamp_results.data, norm=norm, origin='lower', cmap='viridis')\n",
    "f.colorbar(img)\n",
    "plt.show()"
   ]
  },
  {
   "cell_type": "code",
   "execution_count": null,
   "metadata": {},
   "outputs": [],
   "source": [
    "# Source Catalog\n",
    "sc = source_catalog_step.SourceCatalogStep()\n",
    "sc.snr_threshold = 10\n",
    "sc.npixels = 50\n",
    "sc.save_results = True\n",
    "sourcecat_output_filename = 'jw10002_step_by_step_no_cfg'\n",
    "sc.output_file = sourcecat_output_filename\n",
    "sc_results = sc.run(resamp_results)"
   ]
  },
  {
   "cell_type": "code",
   "execution_count": null,
   "metadata": {
    "scrolled": true
   },
   "outputs": [],
   "source": [
    "# Examine output catalog\n",
    "output_cat = \"{}_{}\".format(sourcecat_output_filename, 'cat.ecsv')\n",
    "catalog = Table.read(output_cat,format='ascii.ecsv')\n",
    "catalog"
   ]
  },
  {
   "cell_type": "markdown",
   "metadata": {},
   "source": [
    "***\n",
    "<a id='addtl_resources'></a>\n",
    "## Additional Resources"
   ]
  },
  {
   "cell_type": "markdown",
   "metadata": {},
   "source": [
    "There are several different places to find information on installing and running the pipeline. \n",
    "\n",
    ">1. [Data Reduction Pipeline page](https://jwst-docs.stsci.edu/display/JDAT/JWST+Data+Reduction+Pipeline)\n",
    ">2. [Pipeline Installation page](http://astroconda.readthedocs.io/en/latest/releases.html#pipeline-install)\n",
    ">3. [Detailed pipeline information](https://jwst-pipeline.readthedocs.io/en/latest/jwst/introduction.html)\n",
    ">4. [JWST Help Desk](https://stsci.service-now.com/jwst?id=sc_cat_item&sys_id=27a8af2fdbf2220033b55dd5ce9619cd&sysparm_category=e15706fc0a0a0aa7007fc21e1ab70c2f)"
   ]
  },
  {
   "cell_type": "markdown",
   "metadata": {},
   "source": [
    "Level 3 pipeline steps are listed below. This notebook gives shortened descriptions of the steps pulled from the detailed pipeline information pages, but to find more in-depth instructions use the links below.\n",
    "\n",
    "* **[Tweakreg](https://jwst-pipeline.readthedocs.io/en/stable/jwst/tweakreg/README.html)** (jwst.tweakreg, tweakreg_step, TweakRegStep)\n",
    "* **[Sky Match](https://jwst-pipeline.readthedocs.io/en/stable/jwst/skymatch/README.html)** (jwst.skymatch, skymatch_step, SkyMatchStep)\n",
    "* **[Outlier Detection](https://jwst-pipeline.readthedocs.io/en/stable/jwst/outlier_detection/index.html)** (jwst.outlier_detection, outlier_detection_step, OutlierDetectionStep)\n",
    "* **[Resample](https://jwst-pipeline.readthedocs.io/en/stable/jwst/resample/main.html)** (jwst.resample, resample_step, ResampleStep)\n",
    "* **[Source Catalog](https://jwst-pipeline.readthedocs.io/en/stable/jwst/source_catalog/main.html)** (jwst.source_catalog, source_catalog_step, SourceCatalogStep)\n",
    "\n",
    "(for more information on individual steps see the [JWST package index](https://jwst-pipeline.readthedocs.io/en/latest/jwst/package_index.html))"
   ]
  },
  {
   "cell_type": "markdown",
   "metadata": {},
   "source": [
    "***\n",
    "<a id='about'></a>\n",
    "## About this notebook"
   ]
  },
  {
   "cell_type": "markdown",
   "metadata": {},
   "source": [
    "This notebook was created by Bryan Hilbert (STScI Research and Instrument Scientist), based on other notebooks created by Alicia Canipe (STScI Research and Instrument Analyst). For additional questions about the **calwebb_image3** pipeline or its constituent steps, contact the [JWST Help Desk](https://stsci.service-now.com/jwst).\n",
    "\n",
    "Updated on 26 November 2018"
   ]
  },
  {
   "cell_type": "markdown",
   "metadata": {},
   "source": [
    "![img](footer.png)"
   ]
  }
 ],
 "metadata": {
  "kernelspec": {
   "display_name": "Python 3",
   "language": "python",
   "name": "python3"
  },
  "language_info": {
   "codemirror_mode": {
    "name": "ipython",
    "version": 3
   },
   "file_extension": ".py",
   "mimetype": "text/x-python",
   "name": "python",
   "nbconvert_exporter": "python",
   "pygments_lexer": "ipython3",
   "version": "3.6.7"
  }
 },
 "nbformat": 4,
 "nbformat_minor": 2
}
