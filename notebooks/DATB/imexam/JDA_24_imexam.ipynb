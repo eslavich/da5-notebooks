{
 "cells": [
  {
   "cell_type": "markdown",
   "metadata": {},
   "source": [
    "## JDA-24: Radial profile with imexam"
   ]
  },
  {
   "cell_type": "markdown",
   "metadata": {},
   "source": [
    "This is a simple tutorial on how to fit a 1D Gaussian to obtain radial profile using `imexam` with both Ginga and DS9 backends."
   ]
  },
  {
   "cell_type": "code",
   "execution_count": null,
   "metadata": {},
   "outputs": [],
   "source": [
    "import imexam\n",
    "from astropy.utils.data import download_file"
   ]
  },
  {
   "cell_type": "code",
   "execution_count": null,
   "metadata": {},
   "outputs": [],
   "source": [
    "filepath = 'https://stsci.box.com/shared/static/ps1m5z30oodii33rdzm0w7a4kqypyv6s.fits'\n",
    "datafile = download_file(filepath, cache=True)\n",
    "print(datafile)"
   ]
  },
  {
   "cell_type": "markdown",
   "metadata": {},
   "source": [
    "### Ginga"
   ]
  },
  {
   "cell_type": "markdown",
   "metadata": {},
   "source": [
    "A new browser tab would appear if this is successful."
   ]
  },
  {
   "cell_type": "code",
   "execution_count": null,
   "metadata": {},
   "outputs": [],
   "source": [
    "viewer_g = imexam.connect(viewer='ginga')"
   ]
  },
  {
   "cell_type": "code",
   "execution_count": null,
   "metadata": {},
   "outputs": [],
   "source": [
    "viewer_g.load_fits(datafile)"
   ]
  },
  {
   "cell_type": "markdown",
   "metadata": {},
   "source": [
    "To fit a Gaussian to get radial profile:\n",
    "\n",
    "1. Click on the broswer tab with Ginga viewer.\n",
    "2. Mouse over `X=1393.46` `Y=1611.81` (`RA 3:32:23.958`, `DEC -27:47:37.13`)\n",
    "3. Press `i` to enter \"imexam\" mode.\n",
    "4. Press `j` to fit Gaussian over the star for radial profile.\n",
    "5. Press `q` to exit \"imexam\" mode.\n",
    "\n",
    "After those steps, when you come back to this notebook, you will see Gaussian radial profile plotted as output."
   ]
  },
  {
   "cell_type": "code",
   "execution_count": null,
   "metadata": {},
   "outputs": [],
   "source": [
    "viewer_g.imexam()"
   ]
  },
  {
   "cell_type": "markdown",
   "metadata": {},
   "source": [
    "### DS9"
   ]
  },
  {
   "cell_type": "markdown",
   "metadata": {},
   "source": [
    "Start DS9 from a command line outside of this notebook:\n",
    "\n",
    "    ds9 &"
   ]
  },
  {
   "cell_type": "code",
   "execution_count": null,
   "metadata": {},
   "outputs": [],
   "source": [
    "# Show the active DS9 session.\n",
    "ds9_sessions = imexam.list_active_ds9()\n",
    "\n",
    "# This is for continuous integration testing only.\n",
    "has_ds9 = len(ds9_sessions) > 0\n",
    "print(has_ds9)\n",
    "print(ds9_sessions)"
   ]
  },
  {
   "cell_type": "code",
   "execution_count": null,
   "metadata": {},
   "outputs": [],
   "source": [
    "# Connect to the active DS9 session.\n",
    "# Change the DS9 session name as needed based on\n",
    "# ds9_sessions value.\n",
    "if has_ds9:\n",
    "    viewer_d = imexam.connect('ds9')"
   ]
  },
  {
   "cell_type": "code",
   "execution_count": null,
   "metadata": {},
   "outputs": [],
   "source": [
    "if has_ds9:\n",
    "    viewer_d.load_fits(datafile)"
   ]
  },
  {
   "cell_type": "markdown",
   "metadata": {},
   "source": [
    "Use `Scale -> ZScale` to change image scaling so you can see the scene. Then, use `Zoom -> Zoom 1/2` to zoom out so you can see the same star measured in the Ginga case above.\n",
    "\n",
    "To fit a Gaussian to get radial profile:\n",
    "\n",
    "1. Focus the DS9 window.\n",
    "2. Mouse over `X=1393.46` `Y=1611.81` (`RA 3:32:23.958`, `DEC -27:47:37.13`)\n",
    "3. Press `i` to enter \"imexam\" mode.\n",
    "4. Press `j` to fit Gaussian over the star for radial profile.\n",
    "5. Press `q` to exit \"imexam\" mode.\n",
    "\n",
    "After those steps, when you come back to this notebook, you will see Gaussian radial profile plotted as output."
   ]
  },
  {
   "cell_type": "code",
   "execution_count": null,
   "metadata": {},
   "outputs": [],
   "source": [
    "if has_ds9:\n",
    "    viewer_d.imexam()"
   ]
  }
 ],
 "metadata": {
  "kernelspec": {
   "display_name": "Python 3",
   "language": "python",
   "name": "python3"
  },
  "language_info": {
   "codemirror_mode": {
    "name": "ipython",
    "version": 3
   },
   "file_extension": ".py",
   "mimetype": "text/x-python",
   "name": "python",
   "nbconvert_exporter": "python",
   "pygments_lexer": "ipython3",
   "version": "3.7.1"
  }
 },
 "nbformat": 4,
 "nbformat_minor": 2
}
